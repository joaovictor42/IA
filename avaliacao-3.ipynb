{
  "nbformat": 4,
  "nbformat_minor": 5,
  "metadata": {
    "kernelspec": {
      "display_name": "Python 3",
      "language": "python",
      "name": "python3"
    },
    "language_info": {
      "codemirror_mode": {
        "name": "ipython",
        "version": 3
      },
      "file_extension": ".py",
      "mimetype": "text/x-python",
      "name": "python",
      "nbconvert_exporter": "python",
      "pygments_lexer": "ipython3",
      "version": "3.8.8"
    },
    "colab": {
      "name": "Avaliacao-03-IA.ipynb",
      "provenance": [],
      "collapsed_sections": [
        "21279433",
        "d7cbccb9",
        "dbf798e1",
        "46ee3bf4",
        "9c92ddac",
        "e0cb21f2",
        "3799528e",
        "8d6ad4b9",
        "fb90dbd5"
      ]
    }
  },
  "cells": [
    {
      "cell_type": "markdown",
      "metadata": {
        "id": "tla2BXHXz8bz"
      },
      "source": [
        "# Avaliação 03 - Inteligência Artificial \n",
        "\n",
        "**Alunos:** João Victor Alcoforado de Araújo  \n",
        "&nbsp; &nbsp; &nbsp; &nbsp; &nbsp; &nbsp; &nbsp; Maria Bárbara Borges Santana"
      ],
      "id": "tla2BXHXz8bz"
    },
    {
      "cell_type": "markdown",
      "metadata": {
        "id": "8a4a7403"
      },
      "source": [
        "### Importações"
      ],
      "id": "8a4a7403"
    },
    {
      "cell_type": "code",
      "metadata": {
        "colab": {
          "base_uri": "https://localhost:8080/"
        },
        "id": "vwO7g5n76FbW",
        "outputId": "d0d9abd6-ab10-4b64-848b-b48f1713d8b2"
      },
      "source": [
        "! pip install catboost -q"
      ],
      "id": "vwO7g5n76FbW",
      "execution_count": 2,
      "outputs": [
        {
          "output_type": "stream",
          "name": "stdout",
          "text": [
            "\u001b[K     |████████████████████████████████| 76.3 MB 1.3 MB/s \n",
            "\u001b[?25h"
          ]
        }
      ]
    },
    {
      "cell_type": "code",
      "metadata": {
        "id": "03b4b9a2"
      },
      "source": [
        "import pandas as pd\n",
        "import numpy as np\n",
        "import matplotlib.pyplot as plt\n",
        "import seaborn as sns\n",
        "from sklearn.compose import ColumnTransformer\n",
        "from sklearn.model_selection import train_test_split\n",
        "from sklearn.preprocessing import OneHotEncoder, LabelEncoder, StandardScaler\n",
        "from sklearn.metrics import confusion_matrix, accuracy_score, classification_report\n",
        "from sklearn.ensemble import RandomForestClassifier\n",
        "from catboost import CatBoostClassifier\n",
        "from sklearn.utils import resample\n",
        "import tensorflow as tf\n",
        "from tensorflow import keras"
      ],
      "id": "03b4b9a2",
      "execution_count": 3,
      "outputs": []
    },
    {
      "cell_type": "markdown",
      "metadata": {
        "id": "21279433"
      },
      "source": [
        "### Configurações de Ambiente"
      ],
      "id": "21279433"
    },
    {
      "cell_type": "code",
      "metadata": {
        "id": "0c0d26c2"
      },
      "source": [
        "%matplotlib inline\n",
        "pd.set_option('max_columns', None)"
      ],
      "id": "0c0d26c2",
      "execution_count": 4,
      "outputs": []
    },
    {
      "cell_type": "code",
      "metadata": {
        "id": "bb84c225"
      },
      "source": [
        "palette = {'Cura': \"C0\", 'Obito': \"C1\"}"
      ],
      "id": "bb84c225",
      "execution_count": 5,
      "outputs": []
    },
    {
      "cell_type": "markdown",
      "metadata": {
        "id": "d7cbccb9"
      },
      "source": [
        "### Funções Auxiliares"
      ],
      "id": "d7cbccb9"
    },
    {
      "cell_type": "code",
      "metadata": {
        "id": "7d4f9aa1"
      },
      "source": [
        "def count_plot(dataset, x):\n",
        "    \n",
        "    sns.countplot(data=dataset, x=x, hue='EVOLUCAO', \n",
        "                  hue_order=['Cura','Obito'], palette=palette)\n",
        "    \n",
        "    plt.show()"
      ],
      "id": "7d4f9aa1",
      "execution_count": 6,
      "outputs": []
    },
    {
      "cell_type": "markdown",
      "metadata": {
        "id": "d59cf142"
      },
      "source": [
        "### Pré-processamento"
      ],
      "id": "d59cf142"
    },
    {
      "cell_type": "code",
      "metadata": {
        "id": "ca93c8ab"
      },
      "source": [
        "#Colunas por categoria\n",
        "info_paciente = [\n",
        "    'CS_SEXO', \n",
        "    'NU_IDADE_N', \n",
        "    'TP_IDADE',\n",
        "    'CS_GESTANT',\n",
        "    'UTI',\n",
        "    'SUPORT_VEN',\n",
        "    'CLASSI_FIN',\n",
        "    'EVOLUCAO'\n",
        "]\n",
        "\n",
        "sintomas = [\n",
        "    'FEBRE',\n",
        "    'TOSSE',\n",
        "    'GARGANTA',\n",
        "    'DISPNEIA', \n",
        "    'DESC_RESP',\n",
        "    'SATURACAO', \n",
        "    'DIARREIA',\n",
        "    'VOMITO', \n",
        "    'DOR_ABD',\n",
        "    'FADIGA',\n",
        "    'PERD_OLFT', \n",
        "    'PERD_PALA'\n",
        "]\n",
        "\n",
        "fatores_de_risco = [\n",
        "    'CARDIOPATI',\n",
        "    'HEMATOLOGI',\n",
        "    'SIND_DOWN',\n",
        "    'HEPATICA',\n",
        "    'ASMA',\n",
        "    'DIABETES',\n",
        "    'NEUROLOGIC',\n",
        "    'PNEUMOPATI',\n",
        "    'IMUNODEPRE',\n",
        "    'RENAL',\n",
        "    'OBESIDADE'\n",
        "]\n",
        "\n",
        "vacinas = [\n",
        "    'DOSE_1_COV', \n",
        "    'DOSE_2_COV'\n",
        "]"
      ],
      "id": "ca93c8ab",
      "execution_count": 7,
      "outputs": []
    },
    {
      "cell_type": "code",
      "metadata": {
        "id": "d8706204"
      },
      "source": [
        "# Colunas selecionadas para cada dataset\n",
        "# Como os datasets são de anos diferentes, eles tem colunas diferentes\n",
        "usecols2020 = info_paciente + sintomas + fatores_de_risco\n",
        "usecols2021 = usecols2020 + vacinas"
      ],
      "id": "d8706204",
      "execution_count": 8,
      "outputs": []
    },
    {
      "cell_type": "code",
      "metadata": {
        "colab": {
          "base_uri": "https://localhost:8080/"
        },
        "id": "n7D62SfV5xtN",
        "outputId": "4798b292-8026-4a12-8926-e25504f715d8"
      },
      "source": [
        "from google.colab import drive\n",
        "drive.mount('/content/drive')"
      ],
      "id": "n7D62SfV5xtN",
      "execution_count": 11,
      "outputs": [
        {
          "output_type": "stream",
          "name": "stdout",
          "text": [
            "Drive already mounted at /content/drive; to attempt to forcibly remount, call drive.mount(\"/content/drive\", force_remount=True).\n"
          ]
        }
      ]
    },
    {
      "cell_type": "code",
      "metadata": {
        "scrolled": true,
        "id": "566ad6ce"
      },
      "source": [
        "# Carrega os dois datasets com as colunas especificadas\n",
        "srag2020 = pd.read_csv('/content/drive/MyDrive/Disciplinas/IA/SRAG/INFLUD-29-11-2021.csv', usecols=usecols2020, sep=';')\n",
        "srag2021 = pd.read_csv('/content/drive/MyDrive/Disciplinas/IA/SRAG/INFLUD21-29-11-2021.csv', usecols=usecols2021, sep=';')"
      ],
      "id": "566ad6ce",
      "execution_count": 12,
      "outputs": []
    },
    {
      "cell_type": "code",
      "metadata": {
        "id": "442206b3"
      },
      "source": [
        "# Agrupa os dois datasets\n",
        "srag = pd.concat([srag2020, srag2021], ignore_index=True)"
      ],
      "id": "442206b3",
      "execution_count": 13,
      "outputs": []
    },
    {
      "cell_type": "code",
      "metadata": {
        "colab": {
          "base_uri": "https://localhost:8080/",
          "height": 226
        },
        "id": "11122e81",
        "outputId": "8f34e2c1-0c0f-4c86-f40f-955d55a199db"
      },
      "source": [
        "srag.head()"
      ],
      "id": "11122e81",
      "execution_count": 14,
      "outputs": [
        {
          "output_type": "execute_result",
          "data": {
            "text/html": [
              "<div>\n",
              "<style scoped>\n",
              "    .dataframe tbody tr th:only-of-type {\n",
              "        vertical-align: middle;\n",
              "    }\n",
              "\n",
              "    .dataframe tbody tr th {\n",
              "        vertical-align: top;\n",
              "    }\n",
              "\n",
              "    .dataframe thead th {\n",
              "        text-align: right;\n",
              "    }\n",
              "</style>\n",
              "<table border=\"1\" class=\"dataframe\">\n",
              "  <thead>\n",
              "    <tr style=\"text-align: right;\">\n",
              "      <th></th>\n",
              "      <th>CS_SEXO</th>\n",
              "      <th>NU_IDADE_N</th>\n",
              "      <th>TP_IDADE</th>\n",
              "      <th>CS_GESTANT</th>\n",
              "      <th>FEBRE</th>\n",
              "      <th>TOSSE</th>\n",
              "      <th>GARGANTA</th>\n",
              "      <th>DISPNEIA</th>\n",
              "      <th>DESC_RESP</th>\n",
              "      <th>SATURACAO</th>\n",
              "      <th>DIARREIA</th>\n",
              "      <th>VOMITO</th>\n",
              "      <th>CARDIOPATI</th>\n",
              "      <th>HEMATOLOGI</th>\n",
              "      <th>SIND_DOWN</th>\n",
              "      <th>HEPATICA</th>\n",
              "      <th>ASMA</th>\n",
              "      <th>DIABETES</th>\n",
              "      <th>NEUROLOGIC</th>\n",
              "      <th>PNEUMOPATI</th>\n",
              "      <th>IMUNODEPRE</th>\n",
              "      <th>RENAL</th>\n",
              "      <th>OBESIDADE</th>\n",
              "      <th>UTI</th>\n",
              "      <th>SUPORT_VEN</th>\n",
              "      <th>CLASSI_FIN</th>\n",
              "      <th>EVOLUCAO</th>\n",
              "      <th>DOR_ABD</th>\n",
              "      <th>FADIGA</th>\n",
              "      <th>PERD_OLFT</th>\n",
              "      <th>PERD_PALA</th>\n",
              "      <th>DOSE_1_COV</th>\n",
              "      <th>DOSE_2_COV</th>\n",
              "    </tr>\n",
              "  </thead>\n",
              "  <tbody>\n",
              "    <tr>\n",
              "      <th>0</th>\n",
              "      <td>M</td>\n",
              "      <td>1</td>\n",
              "      <td>3</td>\n",
              "      <td>6</td>\n",
              "      <td>1.0</td>\n",
              "      <td>1.0</td>\n",
              "      <td>2.0</td>\n",
              "      <td>9.0</td>\n",
              "      <td>1.0</td>\n",
              "      <td>1.0</td>\n",
              "      <td>2.0</td>\n",
              "      <td>2.0</td>\n",
              "      <td>NaN</td>\n",
              "      <td>NaN</td>\n",
              "      <td>NaN</td>\n",
              "      <td>NaN</td>\n",
              "      <td>NaN</td>\n",
              "      <td>NaN</td>\n",
              "      <td>NaN</td>\n",
              "      <td>NaN</td>\n",
              "      <td>NaN</td>\n",
              "      <td>NaN</td>\n",
              "      <td>NaN</td>\n",
              "      <td>2.0</td>\n",
              "      <td>2.0</td>\n",
              "      <td>4.0</td>\n",
              "      <td>1.0</td>\n",
              "      <td>NaN</td>\n",
              "      <td>NaN</td>\n",
              "      <td>NaN</td>\n",
              "      <td>NaN</td>\n",
              "      <td>NaN</td>\n",
              "      <td>NaN</td>\n",
              "    </tr>\n",
              "    <tr>\n",
              "      <th>1</th>\n",
              "      <td>M</td>\n",
              "      <td>7</td>\n",
              "      <td>2</td>\n",
              "      <td>6</td>\n",
              "      <td>1.0</td>\n",
              "      <td>1.0</td>\n",
              "      <td>2.0</td>\n",
              "      <td>1.0</td>\n",
              "      <td>1.0</td>\n",
              "      <td>1.0</td>\n",
              "      <td>2.0</td>\n",
              "      <td>2.0</td>\n",
              "      <td>NaN</td>\n",
              "      <td>NaN</td>\n",
              "      <td>NaN</td>\n",
              "      <td>NaN</td>\n",
              "      <td>NaN</td>\n",
              "      <td>NaN</td>\n",
              "      <td>NaN</td>\n",
              "      <td>1.0</td>\n",
              "      <td>1.0</td>\n",
              "      <td>NaN</td>\n",
              "      <td>NaN</td>\n",
              "      <td>2.0</td>\n",
              "      <td>2.0</td>\n",
              "      <td>2.0</td>\n",
              "      <td>1.0</td>\n",
              "      <td>NaN</td>\n",
              "      <td>NaN</td>\n",
              "      <td>NaN</td>\n",
              "      <td>NaN</td>\n",
              "      <td>NaN</td>\n",
              "      <td>NaN</td>\n",
              "    </tr>\n",
              "    <tr>\n",
              "      <th>2</th>\n",
              "      <td>F</td>\n",
              "      <td>57</td>\n",
              "      <td>3</td>\n",
              "      <td>5</td>\n",
              "      <td>1.0</td>\n",
              "      <td>1.0</td>\n",
              "      <td>2.0</td>\n",
              "      <td>1.0</td>\n",
              "      <td>1.0</td>\n",
              "      <td>1.0</td>\n",
              "      <td>2.0</td>\n",
              "      <td>2.0</td>\n",
              "      <td>1.0</td>\n",
              "      <td>2.0</td>\n",
              "      <td>2.0</td>\n",
              "      <td>2.0</td>\n",
              "      <td>2.0</td>\n",
              "      <td>1.0</td>\n",
              "      <td>2.0</td>\n",
              "      <td>2.0</td>\n",
              "      <td>2.0</td>\n",
              "      <td>2.0</td>\n",
              "      <td>2.0</td>\n",
              "      <td>1.0</td>\n",
              "      <td>1.0</td>\n",
              "      <td>4.0</td>\n",
              "      <td>2.0</td>\n",
              "      <td>NaN</td>\n",
              "      <td>NaN</td>\n",
              "      <td>NaN</td>\n",
              "      <td>NaN</td>\n",
              "      <td>NaN</td>\n",
              "      <td>NaN</td>\n",
              "    </tr>\n",
              "    <tr>\n",
              "      <th>3</th>\n",
              "      <td>M</td>\n",
              "      <td>9</td>\n",
              "      <td>2</td>\n",
              "      <td>6</td>\n",
              "      <td>1.0</td>\n",
              "      <td>1.0</td>\n",
              "      <td>2.0</td>\n",
              "      <td>1.0</td>\n",
              "      <td>1.0</td>\n",
              "      <td>1.0</td>\n",
              "      <td>1.0</td>\n",
              "      <td>1.0</td>\n",
              "      <td>NaN</td>\n",
              "      <td>NaN</td>\n",
              "      <td>NaN</td>\n",
              "      <td>NaN</td>\n",
              "      <td>NaN</td>\n",
              "      <td>NaN</td>\n",
              "      <td>NaN</td>\n",
              "      <td>NaN</td>\n",
              "      <td>NaN</td>\n",
              "      <td>NaN</td>\n",
              "      <td>NaN</td>\n",
              "      <td>2.0</td>\n",
              "      <td>1.0</td>\n",
              "      <td>2.0</td>\n",
              "      <td>1.0</td>\n",
              "      <td>NaN</td>\n",
              "      <td>NaN</td>\n",
              "      <td>NaN</td>\n",
              "      <td>NaN</td>\n",
              "      <td>NaN</td>\n",
              "      <td>NaN</td>\n",
              "    </tr>\n",
              "    <tr>\n",
              "      <th>4</th>\n",
              "      <td>M</td>\n",
              "      <td>1</td>\n",
              "      <td>3</td>\n",
              "      <td>6</td>\n",
              "      <td>1.0</td>\n",
              "      <td>1.0</td>\n",
              "      <td>1.0</td>\n",
              "      <td>2.0</td>\n",
              "      <td>1.0</td>\n",
              "      <td>2.0</td>\n",
              "      <td>2.0</td>\n",
              "      <td>1.0</td>\n",
              "      <td>NaN</td>\n",
              "      <td>NaN</td>\n",
              "      <td>NaN</td>\n",
              "      <td>NaN</td>\n",
              "      <td>NaN</td>\n",
              "      <td>NaN</td>\n",
              "      <td>NaN</td>\n",
              "      <td>NaN</td>\n",
              "      <td>NaN</td>\n",
              "      <td>NaN</td>\n",
              "      <td>NaN</td>\n",
              "      <td>2.0</td>\n",
              "      <td>3.0</td>\n",
              "      <td>NaN</td>\n",
              "      <td>NaN</td>\n",
              "      <td>NaN</td>\n",
              "      <td>NaN</td>\n",
              "      <td>NaN</td>\n",
              "      <td>NaN</td>\n",
              "      <td>NaN</td>\n",
              "      <td>NaN</td>\n",
              "    </tr>\n",
              "  </tbody>\n",
              "</table>\n",
              "</div>"
            ],
            "text/plain": [
              "  CS_SEXO  NU_IDADE_N  TP_IDADE  CS_GESTANT  FEBRE  TOSSE  GARGANTA  DISPNEIA  \\\n",
              "0       M           1         3           6    1.0    1.0       2.0       9.0   \n",
              "1       M           7         2           6    1.0    1.0       2.0       1.0   \n",
              "2       F          57         3           5    1.0    1.0       2.0       1.0   \n",
              "3       M           9         2           6    1.0    1.0       2.0       1.0   \n",
              "4       M           1         3           6    1.0    1.0       1.0       2.0   \n",
              "\n",
              "   DESC_RESP  SATURACAO  DIARREIA  VOMITO  CARDIOPATI  HEMATOLOGI  SIND_DOWN  \\\n",
              "0        1.0        1.0       2.0     2.0         NaN         NaN        NaN   \n",
              "1        1.0        1.0       2.0     2.0         NaN         NaN        NaN   \n",
              "2        1.0        1.0       2.0     2.0         1.0         2.0        2.0   \n",
              "3        1.0        1.0       1.0     1.0         NaN         NaN        NaN   \n",
              "4        1.0        2.0       2.0     1.0         NaN         NaN        NaN   \n",
              "\n",
              "   HEPATICA  ASMA  DIABETES  NEUROLOGIC  PNEUMOPATI  IMUNODEPRE  RENAL  \\\n",
              "0       NaN   NaN       NaN         NaN         NaN         NaN    NaN   \n",
              "1       NaN   NaN       NaN         NaN         1.0         1.0    NaN   \n",
              "2       2.0   2.0       1.0         2.0         2.0         2.0    2.0   \n",
              "3       NaN   NaN       NaN         NaN         NaN         NaN    NaN   \n",
              "4       NaN   NaN       NaN         NaN         NaN         NaN    NaN   \n",
              "\n",
              "   OBESIDADE  UTI  SUPORT_VEN  CLASSI_FIN  EVOLUCAO  DOR_ABD  FADIGA  \\\n",
              "0        NaN  2.0         2.0         4.0       1.0      NaN     NaN   \n",
              "1        NaN  2.0         2.0         2.0       1.0      NaN     NaN   \n",
              "2        2.0  1.0         1.0         4.0       2.0      NaN     NaN   \n",
              "3        NaN  2.0         1.0         2.0       1.0      NaN     NaN   \n",
              "4        NaN  2.0         3.0         NaN       NaN      NaN     NaN   \n",
              "\n",
              "   PERD_OLFT  PERD_PALA DOSE_1_COV DOSE_2_COV  \n",
              "0        NaN        NaN        NaN        NaN  \n",
              "1        NaN        NaN        NaN        NaN  \n",
              "2        NaN        NaN        NaN        NaN  \n",
              "3        NaN        NaN        NaN        NaN  \n",
              "4        NaN        NaN        NaN        NaN  "
            ]
          },
          "metadata": {},
          "execution_count": 14
        }
      ]
    },
    {
      "cell_type": "code",
      "metadata": {
        "id": "5f57a23e"
      },
      "source": [
        "#Pacientes com covid e com EVOLUCAO definida 1. Cura e 2. Obito\n",
        "srag = srag[(srag['CLASSI_FIN'] == 5) & (srag['EVOLUCAO'].isin([1, 2]))]\n",
        "srag = srag.drop(columns=['CLASSI_FIN'])"
      ],
      "id": "5f57a23e",
      "execution_count": 15,
      "outputs": []
    },
    {
      "cell_type": "code",
      "metadata": {
        "id": "065b26b7"
      },
      "source": [
        "# Padroniza valores da coluna EVOLUCAO\n",
        "srag['EVOLUCAO'] = srag['EVOLUCAO'].replace({1: 'Cura', 2: 'Obito'})"
      ],
      "id": "065b26b7",
      "execution_count": 16,
      "outputs": []
    },
    {
      "cell_type": "code",
      "metadata": {
        "id": "46178648"
      },
      "source": [
        "#Remove gestantes\n",
        "srag = srag[srag['CS_GESTANT'].isin([5, 6, 9])]\n",
        "srag = srag.drop(columns=['CS_GESTANT'])"
      ],
      "id": "46178648",
      "execution_count": 17,
      "outputs": []
    },
    {
      "cell_type": "code",
      "metadata": {
        "colab": {
          "base_uri": "https://localhost:8080/"
        },
        "id": "1088fa0d",
        "outputId": "b49d464f-08a5-41cd-afe0-6c6c494370e3"
      },
      "source": [
        "# Frequencia Sexo dos pacientes\n",
        "srag['CS_SEXO'].value_counts()"
      ],
      "id": "1088fa0d",
      "execution_count": 18,
      "outputs": [
        {
          "output_type": "execute_result",
          "data": {
            "text/plain": [
              "M    952122\n",
              "F    742999\n",
              "I       168\n",
              "Name: CS_SEXO, dtype: int64"
            ]
          },
          "metadata": {},
          "execution_count": 18
        }
      ]
    },
    {
      "cell_type": "code",
      "metadata": {
        "id": "2e19b413"
      },
      "source": [
        "#Remove pessoa sem sexo definido por representar uma pequena parcela\n",
        "srag = srag[srag['CS_SEXO'] != 'I']"
      ],
      "id": "2e19b413",
      "execution_count": 19,
      "outputs": []
    },
    {
      "cell_type": "code",
      "metadata": {
        "id": "a59496b0"
      },
      "source": [
        "#Seleciona apenas pacientes com idade em anos\n",
        "srag = srag[srag['TP_IDADE'] == 3]\n",
        "srag = srag.drop(columns=['TP_IDADE'])"
      ],
      "id": "a59496b0",
      "execution_count": 20,
      "outputs": []
    },
    {
      "cell_type": "code",
      "metadata": {
        "scrolled": false,
        "colab": {
          "base_uri": "https://localhost:8080/",
          "height": 283
        },
        "id": "7b9b0e41",
        "outputId": "25472f91-a50f-4fe6-a105-fa5416accf4d"
      },
      "source": [
        "#Dispersao idade\n",
        "srag['NU_IDADE_N'].plot.box()"
      ],
      "id": "7b9b0e41",
      "execution_count": 21,
      "outputs": [
        {
          "output_type": "execute_result",
          "data": {
            "text/plain": [
              "<matplotlib.axes._subplots.AxesSubplot at 0x7fe7453c6c10>"
            ]
          },
          "metadata": {},
          "execution_count": 21
        },
        {
          "output_type": "display_data",
          "data": {
            "image/png": "[encoded data removed]",
            "text/plain": [
              "<Figure size 432x288 with 1 Axes>"
            ]
          },
          "metadata": {
            "needs_background": "light"
          }
        }
      ]
    },
    {
      "cell_type": "code",
      "metadata": {
        "id": "d86571fe"
      },
      "source": [
        "# Remove outilers\n",
        "srag = srag[(srag['NU_IDADE_N'] > 0) & (srag['NU_IDADE_N'] <= 120)]"
      ],
      "id": "d86571fe",
      "execution_count": 22,
      "outputs": []
    },
    {
      "cell_type": "code",
      "metadata": {
        "colab": {
          "base_uri": "https://localhost:8080/"
        },
        "id": "5dc2f512",
        "outputId": "a3a39158-4afe-4fbf-f6ef-47df8036ba8c"
      },
      "source": [
        "# Padroniza colunas referentes a vacina\n",
        "# Campos com data recebem 1 \n",
        "# Campos nulos recebem 0\n",
        "for column in vacinas:\n",
        "    srag.loc[srag[column].notnull(), column] = 1\n",
        "    srag.loc[srag[column].isnull(), column] = 0"
      ],
      "id": "5dc2f512",
      "execution_count": 23,
      "outputs": [
        {
          "output_type": "stream",
          "name": "stderr",
          "text": [
            "/usr/local/lib/python3.7/dist-packages/pandas/core/indexing.py:1763: SettingWithCopyWarning: \n",
            "A value is trying to be set on a copy of a slice from a DataFrame.\n",
            "Try using .loc[row_indexer,col_indexer] = value instead\n",
            "\n",
            "See the caveats in the documentation: https://pandas.pydata.org/pandas-docs/stable/user_guide/indexing.html#returning-a-view-versus-a-copy\n",
            "  isetter(loc, value)\n"
          ]
        }
      ]
    },
    {
      "cell_type": "code",
      "metadata": {
        "id": "d9d01a50"
      },
      "source": [
        "# Padroniza colunas de sintomas e fatores de risco\n",
        "# Campos ignorados e nulos recebem 2, ou seja, \"nao\" para a condição\n",
        "for column in sintomas + fatores_de_risco:\n",
        "    srag[column] = srag[column].replace({np.nan: 2, 9: 2})"
      ],
      "id": "d9d01a50",
      "execution_count": 24,
      "outputs": []
    },
    {
      "cell_type": "code",
      "metadata": {
        "id": "e70f716c"
      },
      "source": [
        "# Remove as instâncias com valor \"Ignorado\"\n",
        "# Como são informações importante, melhor remove que injetar ruido\n",
        "for column in ['UTI', 'SUPORT_VEN']:\n",
        "    srag = srag[srag[column] != 9] "
      ],
      "id": "e70f716c",
      "execution_count": 25,
      "outputs": []
    },
    {
      "cell_type": "code",
      "metadata": {
        "id": "e120a37a"
      },
      "source": [
        "# Remove todos as instâncias com dados nulos\n",
        "srag = srag.dropna()"
      ],
      "id": "e120a37a",
      "execution_count": 26,
      "outputs": []
    },
    {
      "cell_type": "code",
      "metadata": {
        "colab": {
          "base_uri": "https://localhost:8080/"
        },
        "id": "b037ed27",
        "outputId": "a7a7737b-30d4-4a60-f639-60354f6b35bd"
      },
      "source": [
        "# Dimensões do dataset\n",
        "srag.shape"
      ],
      "id": "b037ed27",
      "execution_count": 27,
      "outputs": [
        {
          "output_type": "execute_result",
          "data": {
            "text/plain": [
              "(1363302, 30)"
            ]
          },
          "metadata": {},
          "execution_count": 27
        }
      ]
    },
    {
      "cell_type": "code",
      "metadata": {
        "id": "772b094b"
      },
      "source": [
        "# Ordena colunas \n",
        "last_columns = ['SUPORT_VEN', 'UTI', 'EVOLUCAO']\n",
        "srag = pd.concat([srag.drop(columns=last_columns), srag[last_columns]], axis=1, join=\"inner\")"
      ],
      "id": "772b094b",
      "execution_count": 28,
      "outputs": []
    },
    {
      "cell_type": "code",
      "metadata": {
        "colab": {
          "base_uri": "https://localhost:8080/",
          "height": 226
        },
        "id": "fea3895f",
        "outputId": "237743c8-3b35-4707-f74c-3017fdb5b56a"
      },
      "source": [
        "srag.head()"
      ],
      "id": "fea3895f",
      "execution_count": 29,
      "outputs": [
        {
          "output_type": "execute_result",
          "data": {
            "text/html": [
              "<div>\n",
              "<style scoped>\n",
              "    .dataframe tbody tr th:only-of-type {\n",
              "        vertical-align: middle;\n",
              "    }\n",
              "\n",
              "    .dataframe tbody tr th {\n",
              "        vertical-align: top;\n",
              "    }\n",
              "\n",
              "    .dataframe thead th {\n",
              "        text-align: right;\n",
              "    }\n",
              "</style>\n",
              "<table border=\"1\" class=\"dataframe\">\n",
              "  <thead>\n",
              "    <tr style=\"text-align: right;\">\n",
              "      <th></th>\n",
              "      <th>CS_SEXO</th>\n",
              "      <th>NU_IDADE_N</th>\n",
              "      <th>FEBRE</th>\n",
              "      <th>TOSSE</th>\n",
              "      <th>GARGANTA</th>\n",
              "      <th>DISPNEIA</th>\n",
              "      <th>DESC_RESP</th>\n",
              "      <th>SATURACAO</th>\n",
              "      <th>DIARREIA</th>\n",
              "      <th>VOMITO</th>\n",
              "      <th>CARDIOPATI</th>\n",
              "      <th>HEMATOLOGI</th>\n",
              "      <th>SIND_DOWN</th>\n",
              "      <th>HEPATICA</th>\n",
              "      <th>ASMA</th>\n",
              "      <th>DIABETES</th>\n",
              "      <th>NEUROLOGIC</th>\n",
              "      <th>PNEUMOPATI</th>\n",
              "      <th>IMUNODEPRE</th>\n",
              "      <th>RENAL</th>\n",
              "      <th>OBESIDADE</th>\n",
              "      <th>DOR_ABD</th>\n",
              "      <th>FADIGA</th>\n",
              "      <th>PERD_OLFT</th>\n",
              "      <th>PERD_PALA</th>\n",
              "      <th>DOSE_1_COV</th>\n",
              "      <th>DOSE_2_COV</th>\n",
              "      <th>SUPORT_VEN</th>\n",
              "      <th>UTI</th>\n",
              "      <th>EVOLUCAO</th>\n",
              "    </tr>\n",
              "  </thead>\n",
              "  <tbody>\n",
              "    <tr>\n",
              "      <th>24</th>\n",
              "      <td>M</td>\n",
              "      <td>57</td>\n",
              "      <td>1.0</td>\n",
              "      <td>1.0</td>\n",
              "      <td>2.0</td>\n",
              "      <td>2.0</td>\n",
              "      <td>1.0</td>\n",
              "      <td>1.0</td>\n",
              "      <td>2.0</td>\n",
              "      <td>2.0</td>\n",
              "      <td>2.0</td>\n",
              "      <td>2.0</td>\n",
              "      <td>2.0</td>\n",
              "      <td>2.0</td>\n",
              "      <td>2.0</td>\n",
              "      <td>2.0</td>\n",
              "      <td>2.0</td>\n",
              "      <td>2.0</td>\n",
              "      <td>2.0</td>\n",
              "      <td>2.0</td>\n",
              "      <td>2.0</td>\n",
              "      <td>2.0</td>\n",
              "      <td>2.0</td>\n",
              "      <td>2.0</td>\n",
              "      <td>2.0</td>\n",
              "      <td>0</td>\n",
              "      <td>0</td>\n",
              "      <td>2.0</td>\n",
              "      <td>2.0</td>\n",
              "      <td>Cura</td>\n",
              "    </tr>\n",
              "    <tr>\n",
              "      <th>32</th>\n",
              "      <td>M</td>\n",
              "      <td>79</td>\n",
              "      <td>1.0</td>\n",
              "      <td>1.0</td>\n",
              "      <td>2.0</td>\n",
              "      <td>1.0</td>\n",
              "      <td>1.0</td>\n",
              "      <td>1.0</td>\n",
              "      <td>2.0</td>\n",
              "      <td>2.0</td>\n",
              "      <td>1.0</td>\n",
              "      <td>2.0</td>\n",
              "      <td>2.0</td>\n",
              "      <td>2.0</td>\n",
              "      <td>2.0</td>\n",
              "      <td>2.0</td>\n",
              "      <td>2.0</td>\n",
              "      <td>2.0</td>\n",
              "      <td>2.0</td>\n",
              "      <td>2.0</td>\n",
              "      <td>2.0</td>\n",
              "      <td>2.0</td>\n",
              "      <td>2.0</td>\n",
              "      <td>2.0</td>\n",
              "      <td>2.0</td>\n",
              "      <td>0</td>\n",
              "      <td>0</td>\n",
              "      <td>2.0</td>\n",
              "      <td>2.0</td>\n",
              "      <td>Obito</td>\n",
              "    </tr>\n",
              "    <tr>\n",
              "      <th>35</th>\n",
              "      <td>F</td>\n",
              "      <td>61</td>\n",
              "      <td>1.0</td>\n",
              "      <td>1.0</td>\n",
              "      <td>2.0</td>\n",
              "      <td>1.0</td>\n",
              "      <td>1.0</td>\n",
              "      <td>1.0</td>\n",
              "      <td>2.0</td>\n",
              "      <td>2.0</td>\n",
              "      <td>2.0</td>\n",
              "      <td>2.0</td>\n",
              "      <td>2.0</td>\n",
              "      <td>2.0</td>\n",
              "      <td>2.0</td>\n",
              "      <td>2.0</td>\n",
              "      <td>2.0</td>\n",
              "      <td>2.0</td>\n",
              "      <td>2.0</td>\n",
              "      <td>2.0</td>\n",
              "      <td>2.0</td>\n",
              "      <td>2.0</td>\n",
              "      <td>2.0</td>\n",
              "      <td>2.0</td>\n",
              "      <td>2.0</td>\n",
              "      <td>0</td>\n",
              "      <td>0</td>\n",
              "      <td>2.0</td>\n",
              "      <td>2.0</td>\n",
              "      <td>Cura</td>\n",
              "    </tr>\n",
              "    <tr>\n",
              "      <th>38</th>\n",
              "      <td>F</td>\n",
              "      <td>92</td>\n",
              "      <td>1.0</td>\n",
              "      <td>1.0</td>\n",
              "      <td>2.0</td>\n",
              "      <td>2.0</td>\n",
              "      <td>2.0</td>\n",
              "      <td>1.0</td>\n",
              "      <td>2.0</td>\n",
              "      <td>2.0</td>\n",
              "      <td>1.0</td>\n",
              "      <td>2.0</td>\n",
              "      <td>2.0</td>\n",
              "      <td>2.0</td>\n",
              "      <td>2.0</td>\n",
              "      <td>2.0</td>\n",
              "      <td>1.0</td>\n",
              "      <td>2.0</td>\n",
              "      <td>2.0</td>\n",
              "      <td>2.0</td>\n",
              "      <td>2.0</td>\n",
              "      <td>2.0</td>\n",
              "      <td>2.0</td>\n",
              "      <td>2.0</td>\n",
              "      <td>2.0</td>\n",
              "      <td>0</td>\n",
              "      <td>0</td>\n",
              "      <td>2.0</td>\n",
              "      <td>2.0</td>\n",
              "      <td>Obito</td>\n",
              "    </tr>\n",
              "    <tr>\n",
              "      <th>64</th>\n",
              "      <td>F</td>\n",
              "      <td>54</td>\n",
              "      <td>1.0</td>\n",
              "      <td>1.0</td>\n",
              "      <td>2.0</td>\n",
              "      <td>1.0</td>\n",
              "      <td>1.0</td>\n",
              "      <td>1.0</td>\n",
              "      <td>2.0</td>\n",
              "      <td>2.0</td>\n",
              "      <td>1.0</td>\n",
              "      <td>2.0</td>\n",
              "      <td>2.0</td>\n",
              "      <td>2.0</td>\n",
              "      <td>2.0</td>\n",
              "      <td>2.0</td>\n",
              "      <td>2.0</td>\n",
              "      <td>2.0</td>\n",
              "      <td>2.0</td>\n",
              "      <td>2.0</td>\n",
              "      <td>1.0</td>\n",
              "      <td>2.0</td>\n",
              "      <td>2.0</td>\n",
              "      <td>2.0</td>\n",
              "      <td>2.0</td>\n",
              "      <td>0</td>\n",
              "      <td>0</td>\n",
              "      <td>1.0</td>\n",
              "      <td>1.0</td>\n",
              "      <td>Obito</td>\n",
              "    </tr>\n",
              "  </tbody>\n",
              "</table>\n",
              "</div>"
            ],
            "text/plain": [
              "   CS_SEXO  NU_IDADE_N  FEBRE  TOSSE  GARGANTA  DISPNEIA  DESC_RESP  \\\n",
              "24       M          57    1.0    1.0       2.0       2.0        1.0   \n",
              "32       M          79    1.0    1.0       2.0       1.0        1.0   \n",
              "35       F          61    1.0    1.0       2.0       1.0        1.0   \n",
              "38       F          92    1.0    1.0       2.0       2.0        2.0   \n",
              "64       F          54    1.0    1.0       2.0       1.0        1.0   \n",
              "\n",
              "    SATURACAO  DIARREIA  VOMITO  CARDIOPATI  HEMATOLOGI  SIND_DOWN  HEPATICA  \\\n",
              "24        1.0       2.0     2.0         2.0         2.0        2.0       2.0   \n",
              "32        1.0       2.0     2.0         1.0         2.0        2.0       2.0   \n",
              "35        1.0       2.0     2.0         2.0         2.0        2.0       2.0   \n",
              "38        1.0       2.0     2.0         1.0         2.0        2.0       2.0   \n",
              "64        1.0       2.0     2.0         1.0         2.0        2.0       2.0   \n",
              "\n",
              "    ASMA  DIABETES  NEUROLOGIC  PNEUMOPATI  IMUNODEPRE  RENAL  OBESIDADE  \\\n",
              "24   2.0       2.0         2.0         2.0         2.0    2.0        2.0   \n",
              "32   2.0       2.0         2.0         2.0         2.0    2.0        2.0   \n",
              "35   2.0       2.0         2.0         2.0         2.0    2.0        2.0   \n",
              "38   2.0       2.0         1.0         2.0         2.0    2.0        2.0   \n",
              "64   2.0       2.0         2.0         2.0         2.0    2.0        1.0   \n",
              "\n",
              "    DOR_ABD  FADIGA  PERD_OLFT  PERD_PALA DOSE_1_COV DOSE_2_COV  SUPORT_VEN  \\\n",
              "24      2.0     2.0        2.0        2.0          0          0         2.0   \n",
              "32      2.0     2.0        2.0        2.0          0          0         2.0   \n",
              "35      2.0     2.0        2.0        2.0          0          0         2.0   \n",
              "38      2.0     2.0        2.0        2.0          0          0         2.0   \n",
              "64      2.0     2.0        2.0        2.0          0          0         1.0   \n",
              "\n",
              "    UTI EVOLUCAO  \n",
              "24  2.0     Cura  \n",
              "32  2.0    Obito  \n",
              "35  2.0     Cura  \n",
              "38  2.0    Obito  \n",
              "64  1.0    Obito  "
            ]
          },
          "metadata": {},
          "execution_count": 29
        }
      ]
    },
    {
      "cell_type": "code",
      "metadata": {
        "id": "ab5b91b5"
      },
      "source": [
        "# \"Feature Selection\"\n",
        "# Remoção de sintomas brandos que provavelmente não execem influencia sobre o resultado final\n",
        "srag = srag.drop(columns=['TOSSE', 'GARGANTA', 'FADIGA', 'PERD_PALA', 'PERD_OLFT'])"
      ],
      "id": "ab5b91b5",
      "execution_count": 30,
      "outputs": []
    },
    {
      "cell_type": "code",
      "metadata": {
        "colab": {
          "base_uri": "https://localhost:8080/",
          "height": 226
        },
        "id": "3b2028a8",
        "outputId": "ac332e3e-7c7c-4751-f9d7-f18c176d9979"
      },
      "source": [
        "srag.head()"
      ],
      "id": "3b2028a8",
      "execution_count": 31,
      "outputs": [
        {
          "output_type": "execute_result",
          "data": {
            "text/html": [
              "<div>\n",
              "<style scoped>\n",
              "    .dataframe tbody tr th:only-of-type {\n",
              "        vertical-align: middle;\n",
              "    }\n",
              "\n",
              "    .dataframe tbody tr th {\n",
              "        vertical-align: top;\n",
              "    }\n",
              "\n",
              "    .dataframe thead th {\n",
              "        text-align: right;\n",
              "    }\n",
              "</style>\n",
              "<table border=\"1\" class=\"dataframe\">\n",
              "  <thead>\n",
              "    <tr style=\"text-align: right;\">\n",
              "      <th></th>\n",
              "      <th>CS_SEXO</th>\n",
              "      <th>NU_IDADE_N</th>\n",
              "      <th>FEBRE</th>\n",
              "      <th>DISPNEIA</th>\n",
              "      <th>DESC_RESP</th>\n",
              "      <th>SATURACAO</th>\n",
              "      <th>DIARREIA</th>\n",
              "      <th>VOMITO</th>\n",
              "      <th>CARDIOPATI</th>\n",
              "      <th>HEMATOLOGI</th>\n",
              "      <th>SIND_DOWN</th>\n",
              "      <th>HEPATICA</th>\n",
              "      <th>ASMA</th>\n",
              "      <th>DIABETES</th>\n",
              "      <th>NEUROLOGIC</th>\n",
              "      <th>PNEUMOPATI</th>\n",
              "      <th>IMUNODEPRE</th>\n",
              "      <th>RENAL</th>\n",
              "      <th>OBESIDADE</th>\n",
              "      <th>DOR_ABD</th>\n",
              "      <th>DOSE_1_COV</th>\n",
              "      <th>DOSE_2_COV</th>\n",
              "      <th>SUPORT_VEN</th>\n",
              "      <th>UTI</th>\n",
              "      <th>EVOLUCAO</th>\n",
              "    </tr>\n",
              "  </thead>\n",
              "  <tbody>\n",
              "    <tr>\n",
              "      <th>24</th>\n",
              "      <td>M</td>\n",
              "      <td>57</td>\n",
              "      <td>1.0</td>\n",
              "      <td>2.0</td>\n",
              "      <td>1.0</td>\n",
              "      <td>1.0</td>\n",
              "      <td>2.0</td>\n",
              "      <td>2.0</td>\n",
              "      <td>2.0</td>\n",
              "      <td>2.0</td>\n",
              "      <td>2.0</td>\n",
              "      <td>2.0</td>\n",
              "      <td>2.0</td>\n",
              "      <td>2.0</td>\n",
              "      <td>2.0</td>\n",
              "      <td>2.0</td>\n",
              "      <td>2.0</td>\n",
              "      <td>2.0</td>\n",
              "      <td>2.0</td>\n",
              "      <td>2.0</td>\n",
              "      <td>0</td>\n",
              "      <td>0</td>\n",
              "      <td>2.0</td>\n",
              "      <td>2.0</td>\n",
              "      <td>Cura</td>\n",
              "    </tr>\n",
              "    <tr>\n",
              "      <th>32</th>\n",
              "      <td>M</td>\n",
              "      <td>79</td>\n",
              "      <td>1.0</td>\n",
              "      <td>1.0</td>\n",
              "      <td>1.0</td>\n",
              "      <td>1.0</td>\n",
              "      <td>2.0</td>\n",
              "      <td>2.0</td>\n",
              "      <td>1.0</td>\n",
              "      <td>2.0</td>\n",
              "      <td>2.0</td>\n",
              "      <td>2.0</td>\n",
              "      <td>2.0</td>\n",
              "      <td>2.0</td>\n",
              "      <td>2.0</td>\n",
              "      <td>2.0</td>\n",
              "      <td>2.0</td>\n",
              "      <td>2.0</td>\n",
              "      <td>2.0</td>\n",
              "      <td>2.0</td>\n",
              "      <td>0</td>\n",
              "      <td>0</td>\n",
              "      <td>2.0</td>\n",
              "      <td>2.0</td>\n",
              "      <td>Obito</td>\n",
              "    </tr>\n",
              "    <tr>\n",
              "      <th>35</th>\n",
              "      <td>F</td>\n",
              "      <td>61</td>\n",
              "      <td>1.0</td>\n",
              "      <td>1.0</td>\n",
              "      <td>1.0</td>\n",
              "      <td>1.0</td>\n",
              "      <td>2.0</td>\n",
              "      <td>2.0</td>\n",
              "      <td>2.0</td>\n",
              "      <td>2.0</td>\n",
              "      <td>2.0</td>\n",
              "      <td>2.0</td>\n",
              "      <td>2.0</td>\n",
              "      <td>2.0</td>\n",
              "      <td>2.0</td>\n",
              "      <td>2.0</td>\n",
              "      <td>2.0</td>\n",
              "      <td>2.0</td>\n",
              "      <td>2.0</td>\n",
              "      <td>2.0</td>\n",
              "      <td>0</td>\n",
              "      <td>0</td>\n",
              "      <td>2.0</td>\n",
              "      <td>2.0</td>\n",
              "      <td>Cura</td>\n",
              "    </tr>\n",
              "    <tr>\n",
              "      <th>38</th>\n",
              "      <td>F</td>\n",
              "      <td>92</td>\n",
              "      <td>1.0</td>\n",
              "      <td>2.0</td>\n",
              "      <td>2.0</td>\n",
              "      <td>1.0</td>\n",
              "      <td>2.0</td>\n",
              "      <td>2.0</td>\n",
              "      <td>1.0</td>\n",
              "      <td>2.0</td>\n",
              "      <td>2.0</td>\n",
              "      <td>2.0</td>\n",
              "      <td>2.0</td>\n",
              "      <td>2.0</td>\n",
              "      <td>1.0</td>\n",
              "      <td>2.0</td>\n",
              "      <td>2.0</td>\n",
              "      <td>2.0</td>\n",
              "      <td>2.0</td>\n",
              "      <td>2.0</td>\n",
              "      <td>0</td>\n",
              "      <td>0</td>\n",
              "      <td>2.0</td>\n",
              "      <td>2.0</td>\n",
              "      <td>Obito</td>\n",
              "    </tr>\n",
              "    <tr>\n",
              "      <th>64</th>\n",
              "      <td>F</td>\n",
              "      <td>54</td>\n",
              "      <td>1.0</td>\n",
              "      <td>1.0</td>\n",
              "      <td>1.0</td>\n",
              "      <td>1.0</td>\n",
              "      <td>2.0</td>\n",
              "      <td>2.0</td>\n",
              "      <td>1.0</td>\n",
              "      <td>2.0</td>\n",
              "      <td>2.0</td>\n",
              "      <td>2.0</td>\n",
              "      <td>2.0</td>\n",
              "      <td>2.0</td>\n",
              "      <td>2.0</td>\n",
              "      <td>2.0</td>\n",
              "      <td>2.0</td>\n",
              "      <td>2.0</td>\n",
              "      <td>1.0</td>\n",
              "      <td>2.0</td>\n",
              "      <td>0</td>\n",
              "      <td>0</td>\n",
              "      <td>1.0</td>\n",
              "      <td>1.0</td>\n",
              "      <td>Obito</td>\n",
              "    </tr>\n",
              "  </tbody>\n",
              "</table>\n",
              "</div>"
            ],
            "text/plain": [
              "   CS_SEXO  NU_IDADE_N  FEBRE  DISPNEIA  DESC_RESP  SATURACAO  DIARREIA  \\\n",
              "24       M          57    1.0       2.0        1.0        1.0       2.0   \n",
              "32       M          79    1.0       1.0        1.0        1.0       2.0   \n",
              "35       F          61    1.0       1.0        1.0        1.0       2.0   \n",
              "38       F          92    1.0       2.0        2.0        1.0       2.0   \n",
              "64       F          54    1.0       1.0        1.0        1.0       2.0   \n",
              "\n",
              "    VOMITO  CARDIOPATI  HEMATOLOGI  SIND_DOWN  HEPATICA  ASMA  DIABETES  \\\n",
              "24     2.0         2.0         2.0        2.0       2.0   2.0       2.0   \n",
              "32     2.0         1.0         2.0        2.0       2.0   2.0       2.0   \n",
              "35     2.0         2.0         2.0        2.0       2.0   2.0       2.0   \n",
              "38     2.0         1.0         2.0        2.0       2.0   2.0       2.0   \n",
              "64     2.0         1.0         2.0        2.0       2.0   2.0       2.0   \n",
              "\n",
              "    NEUROLOGIC  PNEUMOPATI  IMUNODEPRE  RENAL  OBESIDADE  DOR_ABD DOSE_1_COV  \\\n",
              "24         2.0         2.0         2.0    2.0        2.0      2.0          0   \n",
              "32         2.0         2.0         2.0    2.0        2.0      2.0          0   \n",
              "35         2.0         2.0         2.0    2.0        2.0      2.0          0   \n",
              "38         1.0         2.0         2.0    2.0        2.0      2.0          0   \n",
              "64         2.0         2.0         2.0    2.0        1.0      2.0          0   \n",
              "\n",
              "   DOSE_2_COV  SUPORT_VEN  UTI EVOLUCAO  \n",
              "24          0         2.0  2.0     Cura  \n",
              "32          0         2.0  2.0    Obito  \n",
              "35          0         2.0  2.0     Cura  \n",
              "38          0         2.0  2.0    Obito  \n",
              "64          0         1.0  1.0    Obito  "
            ]
          },
          "metadata": {},
          "execution_count": 31
        }
      ]
    },
    {
      "cell_type": "markdown",
      "metadata": {
        "id": "dbf798e1"
      },
      "source": [
        "### Análise Exploratória"
      ],
      "id": "dbf798e1"
    },
    {
      "cell_type": "code",
      "metadata": {
        "scrolled": true,
        "colab": {
          "base_uri": "https://localhost:8080/",
          "height": 308
        },
        "id": "775ba460",
        "outputId": "63f0d299-9d5b-4fe5-bdb3-3677a72791e3"
      },
      "source": [
        "graph = sns.displot(srag, x='NU_IDADE_N', hue='EVOLUCAO', kind=\"kde\", fill=True, palette=palette)\n",
        "graph.fig.set_size_inches(12,4)\n",
        "plt.show()"
      ],
      "id": "775ba460",
      "execution_count": 32,
      "outputs": [
        {
          "output_type": "display_data",
          "data": {
            "image/png": "[encoded data removed]",
            "text/plain": [
              "<Figure size 864x288 with 1 Axes>"
            ]
          },
          "metadata": {
            "needs_background": "light"
          }
        }
      ]
    },
    {
      "cell_type": "code",
      "metadata": {
        "colab": {
          "base_uri": "https://localhost:8080/",
          "height": 1000
        },
        "id": "d5d776e0",
        "outputId": "91f34fdb-85fa-4d13-ad3a-48d3b48072c6"
      },
      "source": [
        "for info in vacinas + ['UTI', 'SUPORT_VEN']:\n",
        "    count_plot(srag, info)"
      ],
      "id": "d5d776e0",
      "execution_count": 33,
      "outputs": [
        {
          "output_type": "display_data",
          "data": {
            "image/png": "[encoded data removed]",
            "text/plain": [
              "<Figure size 432x288 with 1 Axes>"
            ]
          },
          "metadata": {
            "needs_background": "light"
          }
        },
        {
          "output_type": "display_data",
          "data": {
            "image/png": "[encoded data removed]",
            "text/plain": [
              "<Figure size 432x288 with 1 Axes>"
            ]
          },
          "metadata": {
            "needs_background": "light"
          }
        },
        {
          "output_type": "display_data",
          "data": {
            "image/png": "[encoded data removed]",
            "text/plain": [
              "<Figure size 432x288 with 1 Axes>"
            ]
          },
          "metadata": {
            "needs_background": "light"
          }
        },
        {
          "output_type": "display_data",
          "data": {
            "image/png": "[encoded data removed]",
            "text/plain": [
              "<Figure size 432x288 with 1 Axes>"
            ]
          },
          "metadata": {
            "needs_background": "light"
          }
        }
      ]
    },
    {
      "cell_type": "code",
      "metadata": {
        "scrolled": false,
        "colab": {
          "base_uri": "https://localhost:8080/",
          "height": 1000
        },
        "id": "2fb0c66e",
        "outputId": "a6103de5-b6e3-4894-bfa8-e0b3ba80be2c"
      },
      "source": [
        "for fator in fatores_de_risco:\n",
        "    grupo = srag[srag[fator] == 1]\n",
        "    count_plot(grupo, fator)"
      ],
      "id": "2fb0c66e",
      "execution_count": 34,
      "outputs": [
        {
          "output_type": "display_data",
          "data": {
            "image/png": "[encoded data removed]",
            "text/plain": [
              "<Figure size 432x288 with 1 Axes>"
            ]
          },
          "metadata": {
            "needs_background": "light"
          }
        },
        {
          "output_type": "display_data",
          "data": {
            "image/png": "[encoded data removed]",
            "text/plain": [
              "<Figure size 432x288 with 1 Axes>"
            ]
          },
          "metadata": {
            "needs_background": "light"
          }
        },
        {
          "output_type": "display_data",
          "data": {
            "image/png": "[encoded data removed]",
            "text/plain": [
              "<Figure size 432x288 with 1 Axes>"
            ]
          },
          "metadata": {
            "needs_background": "light"
          }
        },
        {
          "output_type": "display_data",
          "data": {
            "image/png": "[encoded data removed]",
            "text/plain": [
              "<Figure size 432x288 with 1 Axes>"
            ]
          },
          "metadata": {
            "needs_background": "light"
          }
        },
        {
          "output_type": "display_data",
          "data": {
            "image/png": "[encoded data removed]",
            "text/plain": [
              "<Figure size 432x288 with 1 Axes>"
            ]
          },
          "metadata": {
            "needs_background": "light"
          }
        },
        {
          "output_type": "display_data",
          "data": {
            "image/png": "[encoded data removed]",
            "text/plain": [
              "<Figure size 432x288 with 1 Axes>"
            ]
          },
          "metadata": {
            "needs_background": "light"
          }
        },
        {
          "output_type": "display_data",
          "data": {
            "image/png": "[encoded data removed]",
            "text/plain": [
              "<Figure size 432x288 with 1 Axes>"
            ]
          },
          "metadata": {
            "needs_background": "light"
          }
        },
        {
          "output_type": "display_data",
          "data": {
            "image/png": "[encoded data removed]",
            "text/plain": [
              "<Figure size 432x288 with 1 Axes>"
            ]
          },
          "metadata": {
            "needs_background": "light"
          }
        },
        {
          "output_type": "display_data",
          "data": {
            "image/png": "[encoded data removed]",
            "text/plain": [
              "<Figure size 432x288 with 1 Axes>"
            ]
          },
          "metadata": {
            "needs_background": "light"
          }
        },
        {
          "output_type": "display_data",
          "data": {
            "image/png": "[encoded data removed]",
            "text/plain": [
              "<Figure size 432x288 with 1 Axes>"
            ]
          },
          "metadata": {
            "needs_background": "light"
          }
        },
        {
          "output_type": "display_data",
          "data": {
            "image/png": "[encoded data removed]",
            "text/plain": [
              "<Figure size 432x288 with 1 Axes>"
            ]
          },
          "metadata": {
            "needs_background": "light"
          }
        }
      ]
    },
    {
      "cell_type": "markdown",
      "metadata": {
        "id": "9c92ddac"
      },
      "source": [
        "### Undersampling"
      ],
      "id": "9c92ddac"
    },
    {
      "cell_type": "code",
      "metadata": {
        "colab": {
          "base_uri": "https://localhost:8080/"
        },
        "id": "57UdTMhe7hwg",
        "outputId": "22170296-26ff-4836-fdb6-dbfe046ad815"
      },
      "source": [
        "srag['EVOLUCAO'].value_counts()/srag.shape[0]"
      ],
      "id": "57UdTMhe7hwg",
      "execution_count": 35,
      "outputs": [
        {
          "output_type": "execute_result",
          "data": {
            "text/plain": [
              "Cura     0.659637\n",
              "Obito    0.340363\n",
              "Name: EVOLUCAO, dtype: float64"
            ]
          },
          "metadata": {},
          "execution_count": 35
        }
      ]
    },
    {
      "cell_type": "code",
      "metadata": {
        "id": "4713b664"
      },
      "source": [
        "# Serparação das classes minoritárias e majoritárias\n",
        "srag_majority = srag[srag['EVOLUCAO'] == 'Cura']\n",
        "srag_minority = srag[srag['EVOLUCAO'] == 'Obito']\n",
        "\n",
        "# Tamanho da classe minoritária\n",
        "minority_lenght = srag_minority.shape[0]\n",
        "\n",
        "# Undersampling da classe majoritária\n",
        "majority_resampled = resample(\n",
        "    srag_majority, \n",
        "    replace=False, # Undersampling sem reposição\n",
        "    n_samples=minority_lenght, \n",
        "    random_state=42 # Seed \n",
        ") \n",
        " \n",
        "# Formação do dataset balanceado\n",
        "balanced_srag = pd.concat([majority_resampled, srag_minority])"
      ],
      "id": "4713b664",
      "execution_count": 36,
      "outputs": []
    },
    {
      "cell_type": "code",
      "metadata": {
        "colab": {
          "base_uri": "https://localhost:8080/"
        },
        "id": "9c05ea84",
        "outputId": "5f94b234-013b-400f-9ea2-7921f9999ed2"
      },
      "source": [
        "# Visualização do novo balanceamento\n",
        "balanced_srag['EVOLUCAO'].value_counts()"
      ],
      "id": "9c05ea84",
      "execution_count": 37,
      "outputs": [
        {
          "output_type": "execute_result",
          "data": {
            "text/plain": [
              "Cura     464017\n",
              "Obito    464017\n",
              "Name: EVOLUCAO, dtype: int64"
            ]
          },
          "metadata": {},
          "execution_count": 37
        }
      ]
    },
    {
      "cell_type": "code",
      "metadata": {
        "colab": {
          "base_uri": "https://localhost:8080/"
        },
        "id": "47088802",
        "outputId": "0a16ece9-b690-4071-a073-ad83f74c3965"
      },
      "source": [
        "balanced_srag.info()"
      ],
      "id": "47088802",
      "execution_count": 38,
      "outputs": [
        {
          "output_type": "stream",
          "name": "stdout",
          "text": [
            "<class 'pandas.core.frame.DataFrame'>\n",
            "Int64Index: 928034 entries, 603977 to 2825164\n",
            "Data columns (total 25 columns):\n",
            " #   Column      Non-Null Count   Dtype  \n",
            "---  ------      --------------   -----  \n",
            " 0   CS_SEXO     928034 non-null  object \n",
            " 1   NU_IDADE_N  928034 non-null  int64  \n",
            " 2   FEBRE       928034 non-null  float64\n",
            " 3   DISPNEIA    928034 non-null  float64\n",
            " 4   DESC_RESP   928034 non-null  float64\n",
            " 5   SATURACAO   928034 non-null  float64\n",
            " 6   DIARREIA    928034 non-null  float64\n",
            " 7   VOMITO      928034 non-null  float64\n",
            " 8   CARDIOPATI  928034 non-null  float64\n",
            " 9   HEMATOLOGI  928034 non-null  float64\n",
            " 10  SIND_DOWN   928034 non-null  float64\n",
            " 11  HEPATICA    928034 non-null  float64\n",
            " 12  ASMA        928034 non-null  float64\n",
            " 13  DIABETES    928034 non-null  float64\n",
            " 14  NEUROLOGIC  928034 non-null  float64\n",
            " 15  PNEUMOPATI  928034 non-null  float64\n",
            " 16  IMUNODEPRE  928034 non-null  float64\n",
            " 17  RENAL       928034 non-null  float64\n",
            " 18  OBESIDADE   928034 non-null  float64\n",
            " 19  DOR_ABD     928034 non-null  float64\n",
            " 20  DOSE_1_COV  928034 non-null  object \n",
            " 21  DOSE_2_COV  928034 non-null  object \n",
            " 22  SUPORT_VEN  928034 non-null  float64\n",
            " 23  UTI         928034 non-null  float64\n",
            " 24  EVOLUCAO    928034 non-null  object \n",
            "dtypes: float64(20), int64(1), object(4)\n",
            "memory usage: 184.1+ MB\n"
          ]
        }
      ]
    },
    {
      "cell_type": "markdown",
      "metadata": {
        "id": "e0cb21f2"
      },
      "source": [
        "### Transformação dos Dados - Modelos de Machine Learning"
      ],
      "id": "e0cb21f2"
    },
    {
      "cell_type": "code",
      "metadata": {
        "id": "084bfad4"
      },
      "source": [
        "# Separação variáveis independentes e dependentes\n",
        "X = balanced_srag.iloc[:, :-1].values\n",
        "y = balanced_srag.iloc[:, -1].values\n",
        "\n",
        "cat_features = [0, 20, 21]\n",
        "\n",
        "column_transformer = ColumnTransformer(\n",
        "    transformers=[('encoder', OneHotEncoder(), cat_features)],\n",
        "    remainder='passthrough'\n",
        ")\n",
        "\n",
        "X = np.array(column_transformer.fit_transform(X))\n",
        "\n",
        "label_enconder = LabelEncoder()\n",
        "y = label_enconder.fit_transform(y)\n",
        "\n",
        "# Devisão dos dados em teste e treino estratificado\n",
        "X_train, X_test, y_train, y_test = train_test_split(X, y, test_size=0.2, random_state=42, stratify=y)\n",
        "\n",
        "# Normalização dos dados\n",
        "standard_scaler = StandardScaler().fit(X_train)\n",
        "X_train = standard_scaler.transform(X_train)\n",
        "X_test = standard_scaler.transform(X_test)"
      ],
      "id": "084bfad4",
      "execution_count": 39,
      "outputs": []
    },
    {
      "cell_type": "markdown",
      "metadata": {
        "id": "3799528e"
      },
      "source": [
        "### Random Forest"
      ],
      "id": "3799528e"
    },
    {
      "cell_type": "markdown",
      "metadata": {
        "id": "aEJ_rQUy0qDf"
      },
      "source": [
        "#### #1 Random Forest "
      ],
      "id": "aEJ_rQUy0qDf"
    },
    {
      "cell_type": "code",
      "metadata": {
        "colab": {
          "base_uri": "https://localhost:8080/"
        },
        "id": "1a82f784",
        "outputId": "264fdd56-5fc4-4d04-ed0a-cb2db10edf9d"
      },
      "source": [
        "random_forest_classifier = RandomForestClassifier(n_estimators = 50, criterion = 'entropy', random_state = 25)\n",
        "random_forest_classifier.fit(X_train, y_train)\n",
        "y_pred = random_forest_classifier.predict(X_test)\n",
        "\n",
        "print(confusion_matrix(y_test, y_pred))\n",
        "print(classification_report(y_test, y_pred))"
      ],
      "id": "1a82f784",
      "execution_count": 40,
      "outputs": [
        {
          "output_type": "stream",
          "name": "stdout",
          "text": [
            "[[71243 21561]\n",
            " [24849 67954]]\n",
            "              precision    recall  f1-score   support\n",
            "\n",
            "           0       0.74      0.77      0.75     92804\n",
            "           1       0.76      0.73      0.75     92803\n",
            "\n",
            "    accuracy                           0.75    185607\n",
            "   macro avg       0.75      0.75      0.75    185607\n",
            "weighted avg       0.75      0.75      0.75    185607\n",
            "\n"
          ]
        }
      ]
    },
    {
      "cell_type": "markdown",
      "metadata": {
        "id": "cD_G0Z_C0yRE"
      },
      "source": [
        "#### #2 Random Forest "
      ],
      "id": "cD_G0Z_C0yRE"
    },
    {
      "cell_type": "code",
      "metadata": {
        "colab": {
          "base_uri": "https://localhost:8080/"
        },
        "id": "afbb491f",
        "outputId": "d790f8d8-7482-43b5-bb20-13c04f1c1168"
      },
      "source": [
        "random_forest_classifier = RandomForestClassifier(n_estimators = 100, criterion = 'entropy', random_state = 80)\n",
        "random_forest_classifier.fit(X_train, y_train)\n",
        "y_pred = random_forest_classifier.predict(X_test)\n",
        "\n",
        "print(confusion_matrix(y_test, y_pred))\n",
        "print(classification_report(y_test, y_pred))"
      ],
      "id": "afbb491f",
      "execution_count": 41,
      "outputs": [
        {
          "output_type": "stream",
          "name": "stdout",
          "text": [
            "[[71382 21422]\n",
            " [24861 67942]]\n",
            "              precision    recall  f1-score   support\n",
            "\n",
            "           0       0.74      0.77      0.76     92804\n",
            "           1       0.76      0.73      0.75     92803\n",
            "\n",
            "    accuracy                           0.75    185607\n",
            "   macro avg       0.75      0.75      0.75    185607\n",
            "weighted avg       0.75      0.75      0.75    185607\n",
            "\n"
          ]
        }
      ]
    },
    {
      "cell_type": "markdown",
      "metadata": {
        "id": "8d6ad4b9"
      },
      "source": [
        "### Cat Boost"
      ],
      "id": "8d6ad4b9"
    },
    {
      "cell_type": "code",
      "metadata": {
        "colab": {
          "base_uri": "https://localhost:8080/"
        },
        "id": "bb547997",
        "outputId": "96f46e44-2697-4c23-c31f-87a78d0aa3a7"
      },
      "source": [
        "model = CatBoostClassifier(iterations=5, learning_rate=1, depth=10, verbose=False)\n",
        "model.fit(X_train, y_train)\n",
        "y_pred = model.predict(X_test)\n",
        "\n",
        "print(confusion_matrix(y_test, y_pred))\n",
        "print(classification_report(y_test, y_pred))"
      ],
      "id": "bb547997",
      "execution_count": 42,
      "outputs": [
        {
          "output_type": "stream",
          "name": "stdout",
          "text": [
            "[[74281 18523]\n",
            " [22964 69839]]\n",
            "              precision    recall  f1-score   support\n",
            "\n",
            "           0       0.76      0.80      0.78     92804\n",
            "           1       0.79      0.75      0.77     92803\n",
            "\n",
            "    accuracy                           0.78    185607\n",
            "   macro avg       0.78      0.78      0.78    185607\n",
            "weighted avg       0.78      0.78      0.78    185607\n",
            "\n"
          ]
        }
      ]
    },
    {
      "cell_type": "markdown",
      "metadata": {
        "id": "fb90dbd5"
      },
      "source": [
        "### Redes Neurais"
      ],
      "id": "fb90dbd5"
    },
    {
      "cell_type": "code",
      "metadata": {
        "colab": {
          "base_uri": "https://localhost:8080/"
        },
        "id": "8c8c648a",
        "outputId": "7fb0c710-d65c-4bc4-b13d-a1267a4cab9a"
      },
      "source": [
        "input_layer = X.shape[1]\n",
        "input_layer"
      ],
      "id": "8c8c648a",
      "execution_count": 43,
      "outputs": [
        {
          "output_type": "execute_result",
          "data": {
            "text/plain": [
              "27"
            ]
          },
          "metadata": {},
          "execution_count": 43
        }
      ]
    },
    {
      "cell_type": "markdown",
      "metadata": {
        "id": "pTISwoyu1EZY"
      },
      "source": [
        "#### #1 Rede Neural"
      ],
      "id": "pTISwoyu1EZY"
    },
    {
      "cell_type": "code",
      "metadata": {
        "colab": {
          "base_uri": "https://localhost:8080/"
        },
        "id": "bb11fa24",
        "outputId": "7a81047d-822d-43f6-c4b8-55f2e86efc66"
      },
      "source": [
        "tf.random.set_seed(2)\n",
        "\n",
        "ann_classifier = keras.models.Sequential([\n",
        "    keras.layers.Dense(units=input_layer, activation='relu'), \n",
        "    keras.layers.Dense(units=16, activation='relu'),\n",
        "    keras.layers.Dense(units=16, activation='relu'),\n",
        "    keras.layers.Dense(units=1, activation='sigmoid'),\n",
        "])\n",
        "\n",
        "optimizer = keras.optimizers.Adam(learning_rate=0.01)\n",
        "\n",
        "ann_classifier.compile(\n",
        "    optimizer=optimizer, \n",
        "    loss='binary_crossentropy', \n",
        "    metrics=['accuracy']\n",
        ")\n",
        "\n",
        "ann_classifier.fit(X_train, y_train, epochs = 150, verbose=True)"
      ],
      "id": "bb11fa24",
      "execution_count": 44,
      "outputs": [
        {
          "output_type": "stream",
          "name": "stdout",
          "text": [
            "Epoch 1/150\n",
            "23201/23201 [==============================] - 44s 2ms/step - loss: 0.4815 - accuracy: 0.7726\n",
            "Epoch 2/150\n",
            "23201/23201 [==============================] - 43s 2ms/step - loss: 0.4797 - accuracy: 0.7736\n",
            "Epoch 3/150\n",
            "23201/23201 [==============================] - 43s 2ms/step - loss: 0.4796 - accuracy: 0.7734\n",
            "Epoch 4/150\n",
            "23201/23201 [==============================] - 43s 2ms/step - loss: 0.4793 - accuracy: 0.7738\n",
            "Epoch 5/150\n",
            "23201/23201 [==============================] - 43s 2ms/step - loss: 0.4791 - accuracy: 0.7740\n",
            "Epoch 6/150\n",
            "23201/23201 [==============================] - 43s 2ms/step - loss: 0.4789 - accuracy: 0.7739\n",
            "Epoch 7/150\n",
            "23201/23201 [==============================] - 44s 2ms/step - loss: 0.4790 - accuracy: 0.7740\n",
            "Epoch 8/150\n",
            "23201/23201 [==============================] - 44s 2ms/step - loss: 0.4791 - accuracy: 0.7740\n",
            "Epoch 9/150\n",
            "23201/23201 [==============================] - 44s 2ms/step - loss: 0.4793 - accuracy: 0.7737\n",
            "Epoch 10/150\n",
            "23201/23201 [==============================] - 43s 2ms/step - loss: 0.4793 - accuracy: 0.7736\n",
            "Epoch 11/150\n",
            "23201/23201 [==============================] - 42s 2ms/step - loss: 0.4791 - accuracy: 0.7737\n",
            "Epoch 12/150\n",
            "23201/23201 [==============================] - 42s 2ms/step - loss: 0.4793 - accuracy: 0.7734\n",
            "Epoch 13/150\n",
            "23201/23201 [==============================] - 43s 2ms/step - loss: 0.4794 - accuracy: 0.7737\n",
            "Epoch 14/150\n",
            "23201/23201 [==============================] - 43s 2ms/step - loss: 0.4794 - accuracy: 0.7728\n",
            "Epoch 15/150\n",
            "23201/23201 [==============================] - 43s 2ms/step - loss: 0.4792 - accuracy: 0.7736\n",
            "Epoch 16/150\n",
            "23201/23201 [==============================] - 43s 2ms/step - loss: 0.4796 - accuracy: 0.7721\n",
            "Epoch 17/150\n",
            "23201/23201 [==============================] - 43s 2ms/step - loss: 0.4798 - accuracy: 0.7732\n",
            "Epoch 18/150\n",
            "23201/23201 [==============================] - 43s 2ms/step - loss: 0.4799 - accuracy: 0.7732\n",
            "Epoch 19/150\n",
            "23201/23201 [==============================] - 43s 2ms/step - loss: 0.4793 - accuracy: 0.7736\n",
            "Epoch 20/150\n",
            "23201/23201 [==============================] - 43s 2ms/step - loss: 0.4794 - accuracy: 0.7734\n",
            "Epoch 21/150\n",
            "23201/23201 [==============================] - 42s 2ms/step - loss: 0.4792 - accuracy: 0.7735\n",
            "Epoch 22/150\n",
            "23201/23201 [==============================] - 42s 2ms/step - loss: 0.4789 - accuracy: 0.7739\n",
            "Epoch 23/150\n",
            "23201/23201 [==============================] - 41s 2ms/step - loss: 0.4794 - accuracy: 0.7737\n",
            "Epoch 24/150\n",
            "23201/23201 [==============================] - 42s 2ms/step - loss: 0.4792 - accuracy: 0.7738\n",
            "Epoch 25/150\n",
            "23201/23201 [==============================] - 43s 2ms/step - loss: 0.4797 - accuracy: 0.7734\n",
            "Epoch 26/150\n",
            "23201/23201 [==============================] - 42s 2ms/step - loss: 0.4792 - accuracy: 0.7735\n",
            "Epoch 27/150\n",
            "23201/23201 [==============================] - 42s 2ms/step - loss: 0.4790 - accuracy: 0.7740\n",
            "Epoch 28/150\n",
            "23201/23201 [==============================] - 42s 2ms/step - loss: 0.4800 - accuracy: 0.7717\n",
            "Epoch 29/150\n",
            "23201/23201 [==============================] - 42s 2ms/step - loss: 0.4795 - accuracy: 0.7737\n",
            "Epoch 30/150\n",
            "23201/23201 [==============================] - 42s 2ms/step - loss: 0.4794 - accuracy: 0.7738\n",
            "Epoch 31/150\n",
            "23201/23201 [==============================] - 43s 2ms/step - loss: 0.4794 - accuracy: 0.7736\n",
            "Epoch 32/150\n",
            "23201/23201 [==============================] - 43s 2ms/step - loss: 0.4795 - accuracy: 0.7736\n",
            "Epoch 33/150\n",
            "23201/23201 [==============================] - 43s 2ms/step - loss: 0.4801 - accuracy: 0.7738\n",
            "Epoch 34/150\n",
            "23201/23201 [==============================] - 44s 2ms/step - loss: 0.4797 - accuracy: 0.7741\n",
            "Epoch 35/150\n",
            "23201/23201 [==============================] - 44s 2ms/step - loss: 0.4798 - accuracy: 0.7736\n",
            "Epoch 36/150\n",
            "23201/23201 [==============================] - 43s 2ms/step - loss: 0.4792 - accuracy: 0.7738\n",
            "Epoch 37/150\n",
            "23201/23201 [==============================] - 43s 2ms/step - loss: 0.4789 - accuracy: 0.7739\n",
            "Epoch 38/150\n",
            "23201/23201 [==============================] - 43s 2ms/step - loss: 0.4789 - accuracy: 0.7742\n",
            "Epoch 39/150\n",
            "23201/23201 [==============================] - 43s 2ms/step - loss: 0.4790 - accuracy: 0.7738\n",
            "Epoch 40/150\n",
            "23201/23201 [==============================] - 43s 2ms/step - loss: 0.4792 - accuracy: 0.7738\n",
            "Epoch 41/150\n",
            "23201/23201 [==============================] - 42s 2ms/step - loss: 0.4792 - accuracy: 0.7738\n",
            "Epoch 42/150\n",
            "23201/23201 [==============================] - 43s 2ms/step - loss: 0.4794 - accuracy: 0.7737\n",
            "Epoch 43/150\n",
            "23201/23201 [==============================] - 42s 2ms/step - loss: 0.4792 - accuracy: 0.7735\n",
            "Epoch 44/150\n",
            "23201/23201 [==============================] - 43s 2ms/step - loss: 0.4791 - accuracy: 0.7735\n",
            "Epoch 45/150\n",
            "23201/23201 [==============================] - 44s 2ms/step - loss: 0.4794 - accuracy: 0.7732\n",
            "Epoch 46/150\n",
            "23201/23201 [==============================] - 43s 2ms/step - loss: 0.4794 - accuracy: 0.7733\n",
            "Epoch 47/150\n",
            "23201/23201 [==============================] - 43s 2ms/step - loss: 0.4793 - accuracy: 0.7738\n",
            "Epoch 48/150\n",
            "23201/23201 [==============================] - 43s 2ms/step - loss: 0.4794 - accuracy: 0.7731\n",
            "Epoch 49/150\n",
            "23201/23201 [==============================] - 44s 2ms/step - loss: 0.4795 - accuracy: 0.7734\n",
            "Epoch 50/150\n",
            "23201/23201 [==============================] - 44s 2ms/step - loss: 0.4792 - accuracy: 0.7736\n",
            "Epoch 51/150\n",
            "23201/23201 [==============================] - 42s 2ms/step - loss: 0.4800 - accuracy: 0.7725\n",
            "Epoch 52/150\n",
            "23201/23201 [==============================] - 42s 2ms/step - loss: 0.4796 - accuracy: 0.7738\n",
            "Epoch 53/150\n",
            "23201/23201 [==============================] - 43s 2ms/step - loss: 0.4794 - accuracy: 0.7731\n",
            "Epoch 54/150\n",
            "23201/23201 [==============================] - 43s 2ms/step - loss: 0.4792 - accuracy: 0.7741\n",
            "Epoch 55/150\n",
            "23201/23201 [==============================] - 43s 2ms/step - loss: 0.4789 - accuracy: 0.7738\n",
            "Epoch 56/150\n",
            "23201/23201 [==============================] - 43s 2ms/step - loss: 0.4790 - accuracy: 0.7741\n",
            "Epoch 57/150\n",
            "23201/23201 [==============================] - 43s 2ms/step - loss: 0.4789 - accuracy: 0.7741\n",
            "Epoch 58/150\n",
            "23201/23201 [==============================] - 43s 2ms/step - loss: 0.4795 - accuracy: 0.7738\n",
            "Epoch 59/150\n",
            "23201/23201 [==============================] - 43s 2ms/step - loss: 0.4799 - accuracy: 0.7738\n",
            "Epoch 60/150\n",
            "23201/23201 [==============================] - 44s 2ms/step - loss: 0.4793 - accuracy: 0.7737\n",
            "Epoch 61/150\n",
            "23201/23201 [==============================] - 43s 2ms/step - loss: 0.4793 - accuracy: 0.7740\n",
            "Epoch 62/150\n",
            "23201/23201 [==============================] - 43s 2ms/step - loss: 0.4792 - accuracy: 0.7742\n",
            "Epoch 63/150\n",
            "23201/23201 [==============================] - 44s 2ms/step - loss: 0.4806 - accuracy: 0.7720\n",
            "Epoch 64/150\n",
            "23201/23201 [==============================] - 43s 2ms/step - loss: 0.4796 - accuracy: 0.7728\n",
            "Epoch 65/150\n",
            "23201/23201 [==============================] - 43s 2ms/step - loss: 0.4795 - accuracy: 0.7732\n",
            "Epoch 66/150\n",
            "23201/23201 [==============================] - 43s 2ms/step - loss: 0.4794 - accuracy: 0.7730\n",
            "Epoch 67/150\n",
            "23201/23201 [==============================] - 43s 2ms/step - loss: 0.4791 - accuracy: 0.7742\n",
            "Epoch 68/150\n",
            "23201/23201 [==============================] - 44s 2ms/step - loss: 0.4794 - accuracy: 0.7738\n",
            "Epoch 69/150\n",
            "23201/23201 [==============================] - 44s 2ms/step - loss: 0.4794 - accuracy: 0.7741\n",
            "Epoch 70/150\n",
            "23201/23201 [==============================] - 44s 2ms/step - loss: 0.4790 - accuracy: 0.7743\n",
            "Epoch 71/150\n",
            "23201/23201 [==============================] - 44s 2ms/step - loss: 0.4793 - accuracy: 0.7739\n",
            "Epoch 72/150\n",
            "23201/23201 [==============================] - 45s 2ms/step - loss: 0.4795 - accuracy: 0.7740\n",
            "Epoch 73/150\n",
            "23201/23201 [==============================] - 44s 2ms/step - loss: 0.4795 - accuracy: 0.7737\n",
            "Epoch 74/150\n",
            "23201/23201 [==============================] - 43s 2ms/step - loss: 0.4796 - accuracy: 0.7740\n",
            "Epoch 75/150\n",
            "23201/23201 [==============================] - 43s 2ms/step - loss: 0.4794 - accuracy: 0.7742\n",
            "Epoch 76/150\n",
            "23201/23201 [==============================] - 43s 2ms/step - loss: 0.4789 - accuracy: 0.7744\n",
            "Epoch 77/150\n",
            "23201/23201 [==============================] - 44s 2ms/step - loss: 0.4794 - accuracy: 0.7735\n",
            "Epoch 78/150\n",
            "23201/23201 [==============================] - 44s 2ms/step - loss: 0.4789 - accuracy: 0.7743\n",
            "Epoch 79/150\n",
            "23201/23201 [==============================] - 44s 2ms/step - loss: 0.4791 - accuracy: 0.7740\n",
            "Epoch 80/150\n",
            "23201/23201 [==============================] - 44s 2ms/step - loss: 0.4795 - accuracy: 0.7727\n",
            "Epoch 81/150\n",
            "23201/23201 [==============================] - 43s 2ms/step - loss: 0.4792 - accuracy: 0.7742\n",
            "Epoch 82/150\n",
            "23201/23201 [==============================] - 43s 2ms/step - loss: 0.4794 - accuracy: 0.7740\n",
            "Epoch 83/150\n",
            "23201/23201 [==============================] - 44s 2ms/step - loss: 0.4789 - accuracy: 0.7744\n",
            "Epoch 84/150\n",
            "23201/23201 [==============================] - 44s 2ms/step - loss: 0.4790 - accuracy: 0.7743\n",
            "Epoch 85/150\n",
            "23201/23201 [==============================] - 44s 2ms/step - loss: 0.4790 - accuracy: 0.7743\n",
            "Epoch 86/150\n",
            "23201/23201 [==============================] - 44s 2ms/step - loss: 0.4790 - accuracy: 0.7743\n",
            "Epoch 87/150\n",
            "23201/23201 [==============================] - 44s 2ms/step - loss: 0.4792 - accuracy: 0.7742\n",
            "Epoch 88/150\n",
            "23201/23201 [==============================] - 44s 2ms/step - loss: 0.4791 - accuracy: 0.7739\n",
            "Epoch 89/150\n",
            "23201/23201 [==============================] - 44s 2ms/step - loss: 0.4792 - accuracy: 0.7738\n",
            "Epoch 90/150\n",
            "23201/23201 [==============================] - 44s 2ms/step - loss: 0.4798 - accuracy: 0.7740\n",
            "Epoch 91/150\n",
            "23201/23201 [==============================] - 45s 2ms/step - loss: 0.4798 - accuracy: 0.7740\n",
            "Epoch 92/150\n",
            "23201/23201 [==============================] - 45s 2ms/step - loss: 0.4798 - accuracy: 0.7740\n",
            "Epoch 93/150\n",
            "23201/23201 [==============================] - 44s 2ms/step - loss: 0.4796 - accuracy: 0.7737\n",
            "Epoch 94/150\n",
            "23201/23201 [==============================] - 44s 2ms/step - loss: 0.4798 - accuracy: 0.7739\n",
            "Epoch 95/150\n",
            "23201/23201 [==============================] - 44s 2ms/step - loss: 0.4794 - accuracy: 0.7737\n",
            "Epoch 96/150\n",
            "23201/23201 [==============================] - 44s 2ms/step - loss: 0.4791 - accuracy: 0.7736\n",
            "Epoch 97/150\n",
            "23201/23201 [==============================] - 44s 2ms/step - loss: 0.4794 - accuracy: 0.7728\n",
            "Epoch 98/150\n",
            "23201/23201 [==============================] - 44s 2ms/step - loss: 0.4797 - accuracy: 0.7727\n",
            "Epoch 99/150\n",
            "23201/23201 [==============================] - 44s 2ms/step - loss: 0.4792 - accuracy: 0.7741\n",
            "Epoch 100/150\n",
            "23201/23201 [==============================] - 44s 2ms/step - loss: 0.4792 - accuracy: 0.7737\n",
            "Epoch 101/150\n",
            "23201/23201 [==============================] - 43s 2ms/step - loss: 0.4792 - accuracy: 0.7736\n",
            "Epoch 102/150\n",
            "23201/23201 [==============================] - 43s 2ms/step - loss: 0.4793 - accuracy: 0.7740\n",
            "Epoch 103/150\n",
            "23201/23201 [==============================] - 44s 2ms/step - loss: 0.4792 - accuracy: 0.7738\n",
            "Epoch 104/150\n",
            "23201/23201 [==============================] - 44s 2ms/step - loss: 0.4792 - accuracy: 0.7738\n",
            "Epoch 105/150\n",
            "23201/23201 [==============================] - 44s 2ms/step - loss: 0.4792 - accuracy: 0.7738\n",
            "Epoch 106/150\n",
            "23201/23201 [==============================] - 44s 2ms/step - loss: 0.4793 - accuracy: 0.7737\n",
            "Epoch 107/150\n",
            "23201/23201 [==============================] - 44s 2ms/step - loss: 0.4791 - accuracy: 0.7740\n",
            "Epoch 108/150\n",
            "23201/23201 [==============================] - 44s 2ms/step - loss: 0.4797 - accuracy: 0.7739\n",
            "Epoch 109/150\n",
            "23201/23201 [==============================] - 43s 2ms/step - loss: 0.4806 - accuracy: 0.7739\n",
            "Epoch 110/150\n",
            "23201/23201 [==============================] - 44s 2ms/step - loss: 0.4819 - accuracy: 0.7735\n",
            "Epoch 111/150\n",
            "23201/23201 [==============================] - 44s 2ms/step - loss: 0.4799 - accuracy: 0.7743\n",
            "Epoch 112/150\n",
            "23201/23201 [==============================] - 44s 2ms/step - loss: 0.4792 - accuracy: 0.7742\n",
            "Epoch 113/150\n",
            "23201/23201 [==============================] - 44s 2ms/step - loss: 0.4790 - accuracy: 0.7741\n",
            "Epoch 114/150\n",
            "23201/23201 [==============================] - 44s 2ms/step - loss: 0.4789 - accuracy: 0.7741\n",
            "Epoch 115/150\n",
            "23201/23201 [==============================] - 44s 2ms/step - loss: 0.4881 - accuracy: 0.7738\n",
            "Epoch 116/150\n",
            "23201/23201 [==============================] - 44s 2ms/step - loss: 0.4954 - accuracy: 0.7734\n",
            "Epoch 117/150\n",
            "23201/23201 [==============================] - 45s 2ms/step - loss: 0.4986 - accuracy: 0.7726\n",
            "Epoch 118/150\n",
            "23201/23201 [==============================] - 44s 2ms/step - loss: 0.5024 - accuracy: 0.7722\n",
            "Epoch 119/150\n",
            "23201/23201 [==============================] - 44s 2ms/step - loss: 0.5031 - accuracy: 0.7709\n",
            "Epoch 120/150\n",
            "23201/23201 [==============================] - 44s 2ms/step - loss: 0.5019 - accuracy: 0.7722\n",
            "Epoch 121/150\n",
            "23201/23201 [==============================] - 44s 2ms/step - loss: 0.5006 - accuracy: 0.7713\n",
            "Epoch 122/150\n",
            "23201/23201 [==============================] - 43s 2ms/step - loss: 0.5008 - accuracy: 0.7717\n",
            "Epoch 123/150\n",
            "23201/23201 [==============================] - 44s 2ms/step - loss: 0.5037 - accuracy: 0.7709\n",
            "Epoch 124/150\n",
            "23201/23201 [==============================] - 43s 2ms/step - loss: 0.5011 - accuracy: 0.7709\n",
            "Epoch 125/150\n",
            "23201/23201 [==============================] - 44s 2ms/step - loss: 0.5020 - accuracy: 0.7709\n",
            "Epoch 126/150\n",
            "23201/23201 [==============================] - 44s 2ms/step - loss: 0.4982 - accuracy: 0.7723\n",
            "Epoch 127/150\n",
            "23201/23201 [==============================] - 44s 2ms/step - loss: 0.4968 - accuracy: 0.7722\n",
            "Epoch 128/150\n",
            "23201/23201 [==============================] - 44s 2ms/step - loss: 0.4996 - accuracy: 0.7722\n",
            "Epoch 129/150\n",
            "23201/23201 [==============================] - 45s 2ms/step - loss: 0.5019 - accuracy: 0.7711\n",
            "Epoch 130/150\n",
            "23201/23201 [==============================] - 44s 2ms/step - loss: 0.5038 - accuracy: 0.7705\n",
            "Epoch 131/150\n",
            "23201/23201 [==============================] - 45s 2ms/step - loss: 0.5072 - accuracy: 0.7697\n",
            "Epoch 132/150\n",
            "23201/23201 [==============================] - 45s 2ms/step - loss: 0.5065 - accuracy: 0.7694\n",
            "Epoch 133/150\n",
            "23201/23201 [==============================] - 45s 2ms/step - loss: 0.5022 - accuracy: 0.7714\n",
            "Epoch 134/150\n",
            "23201/23201 [==============================] - 45s 2ms/step - loss: 0.5000 - accuracy: 0.7725\n",
            "Epoch 135/150\n",
            "23201/23201 [==============================] - 45s 2ms/step - loss: 0.4995 - accuracy: 0.7721\n",
            "Epoch 136/150\n",
            "23201/23201 [==============================] - 45s 2ms/step - loss: 0.5033 - accuracy: 0.7715\n",
            "Epoch 137/150\n",
            "23201/23201 [==============================] - 44s 2ms/step - loss: 0.5029 - accuracy: 0.7716\n",
            "Epoch 138/150\n",
            "23201/23201 [==============================] - 45s 2ms/step - loss: 0.5011 - accuracy: 0.7727\n",
            "Epoch 139/150\n",
            "23201/23201 [==============================] - 44s 2ms/step - loss: 0.5005 - accuracy: 0.7723\n",
            "Epoch 140/150\n",
            "23201/23201 [==============================] - 44s 2ms/step - loss: 0.5081 - accuracy: 0.7701\n",
            "Epoch 141/150\n",
            "23201/23201 [==============================] - 44s 2ms/step - loss: 0.5046 - accuracy: 0.7718\n",
            "Epoch 142/150\n",
            "23201/23201 [==============================] - 44s 2ms/step - loss: 0.5016 - accuracy: 0.7720\n",
            "Epoch 143/150\n",
            "23201/23201 [==============================] - 44s 2ms/step - loss: 0.5076 - accuracy: 0.7709\n",
            "Epoch 144/150\n",
            "23201/23201 [==============================] - 44s 2ms/step - loss: 0.5071 - accuracy: 0.7713\n",
            "Epoch 145/150\n",
            "23201/23201 [==============================] - 44s 2ms/step - loss: 0.5069 - accuracy: 0.7713\n",
            "Epoch 146/150\n",
            "23201/23201 [==============================] - 44s 2ms/step - loss: 0.5049 - accuracy: 0.7720\n",
            "Epoch 147/150\n",
            "23201/23201 [==============================] - 44s 2ms/step - loss: 0.5030 - accuracy: 0.7721\n",
            "Epoch 148/150\n",
            "23201/23201 [==============================] - 44s 2ms/step - loss: 0.5045 - accuracy: 0.7724\n",
            "Epoch 149/150\n",
            "23201/23201 [==============================] - 44s 2ms/step - loss: 0.5095 - accuracy: 0.7708\n",
            "Epoch 150/150\n",
            "23201/23201 [==============================] - 44s 2ms/step - loss: 0.5059 - accuracy: 0.7717\n"
          ]
        },
        {
          "output_type": "execute_result",
          "data": {
            "text/plain": [
              "<keras.callbacks.History at 0x7fe7d0c975d0>"
            ]
          },
          "metadata": {},
          "execution_count": 44
        }
      ]
    },
    {
      "cell_type": "code",
      "metadata": {
        "colab": {
          "base_uri": "https://localhost:8080/"
        },
        "id": "800f1d7b",
        "outputId": "9daed820-0ecf-4da1-dc91-503c01fdc412"
      },
      "source": [
        "y_pred = ann_classifier.predict(X_test) > 0.5\n",
        "\n",
        "print(confusion_matrix(y_test, y_pred))\n",
        "print(classification_report(y_test, y_pred))"
      ],
      "id": "800f1d7b",
      "execution_count": 45,
      "outputs": [
        {
          "output_type": "stream",
          "name": "stdout",
          "text": [
            "[[74150 18654]\n",
            " [23480 69323]]\n",
            "              precision    recall  f1-score   support\n",
            "\n",
            "           0       0.76      0.80      0.78     92804\n",
            "           1       0.79      0.75      0.77     92803\n",
            "\n",
            "    accuracy                           0.77    185607\n",
            "   macro avg       0.77      0.77      0.77    185607\n",
            "weighted avg       0.77      0.77      0.77    185607\n",
            "\n"
          ]
        }
      ]
    },
    {
      "cell_type": "markdown",
      "metadata": {
        "id": "pqxh4t2i1Hji"
      },
      "source": [
        "#### #2 Rede Neural"
      ],
      "id": "pqxh4t2i1Hji"
    },
    {
      "cell_type": "code",
      "metadata": {
        "colab": {
          "base_uri": "https://localhost:8080/"
        },
        "id": "6e69dc0a",
        "outputId": "92c0887f-c018-4d7d-c024-ec6bf7f98395"
      },
      "source": [
        "tf.random.set_seed(15)\n",
        "\n",
        "ann_classifier = keras.models.Sequential([\n",
        "    keras.layers.Dense(units=input_layer, activation='relu'), \n",
        "    keras.layers.Dense(units=24, activation='relu'),\n",
        "    keras.layers.Dense(units=24, activation='relu'),\n",
        "    keras.layers.Dense(units=24, activation='relu'),\n",
        "    keras.layers.Dense(units=16, activation='relu'),\n",
        "    keras.layers.Dense(units=1, activation='sigmoid'),\n",
        "])\n",
        "\n",
        "optimizer = keras.optimizers.Adam(learning_rate=0.01)\n",
        "\n",
        "ann_classifier.compile(\n",
        "    optimizer=optimizer, \n",
        "    loss='binary_crossentropy', \n",
        "    metrics=['accuracy']\n",
        ")\n",
        "\n",
        "ann_classifier.fit(X_train, y_train, epochs = 5, verbose=True)"
      ],
      "id": "6e69dc0a",
      "execution_count": 47,
      "outputs": [
        {
          "output_type": "stream",
          "name": "stdout",
          "text": [
            "Epoch 1/5\n",
            "23201/23201 [==============================] - 49s 2ms/step - loss: 0.4826 - accuracy: 0.7721\n",
            "Epoch 2/5\n",
            "23201/23201 [==============================] - 48s 2ms/step - loss: 0.4809 - accuracy: 0.7730\n",
            "Epoch 3/5\n",
            "23201/23201 [==============================] - 48s 2ms/step - loss: 0.4801 - accuracy: 0.7734\n",
            "Epoch 4/5\n",
            "23201/23201 [==============================] - 48s 2ms/step - loss: 0.4799 - accuracy: 0.7738\n",
            "Epoch 5/5\n",
            "23201/23201 [==============================] - 49s 2ms/step - loss: 0.4796 - accuracy: 0.7732\n"
          ]
        },
        {
          "output_type": "execute_result",
          "data": {
            "text/plain": [
              "<keras.callbacks.History at 0x7fe706cd6710>"
            ]
          },
          "metadata": {},
          "execution_count": 47
        }
      ]
    },
    {
      "cell_type": "code",
      "metadata": {
        "colab": {
          "base_uri": "https://localhost:8080/"
        },
        "id": "62903f45",
        "outputId": "2a0de65a-2275-4c80-b5dd-781f99686190"
      },
      "source": [
        "y_pred = ann_classifier.predict(X_test) > 0.5\n",
        "\n",
        "print(confusion_matrix(y_test, y_pred))\n",
        "print(classification_report(y_test, y_pred))"
      ],
      "id": "62903f45",
      "execution_count": 48,
      "outputs": [
        {
          "output_type": "stream",
          "name": "stdout",
          "text": [
            "[[71723 21081]\n",
            " [20580 72223]]\n",
            "              precision    recall  f1-score   support\n",
            "\n",
            "           0       0.78      0.77      0.77     92804\n",
            "           1       0.77      0.78      0.78     92803\n",
            "\n",
            "    accuracy                           0.78    185607\n",
            "   macro avg       0.78      0.78      0.78    185607\n",
            "weighted avg       0.78      0.78      0.78    185607\n",
            "\n"
          ]
        }
      ]
    }
  ]
}