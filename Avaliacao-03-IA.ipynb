{
 "cells": [
  {
   "cell_type": "code",
   "execution_count": 1,
   "id": "03b4b9a2",
   "metadata": {},
   "outputs": [],
   "source": [
    "import pandas as pd\n",
    "import numpy as np\n",
    "import matplotlib.pyplot as plt\n",
    "import seaborn as sns\n",
    "from sklearn.compose import ColumnTransformer\n",
    "from sklearn.model_selection import train_test_split\n",
    "from sklearn.preprocessing import OneHotEncoder, LabelEncoder, StandardScaler\n",
    "from sklearn.metrics import confusion_matrix, accuracy_score, classification_report\n",
    "from sklearn.ensemble import RandomForestClassifier\n",
    "from catboost import CatBoostClassifier\n",
    "from sklearn.utils import resample\n",
    "import tensorflow as tf\n",
    "from tensorflow import keras"
   ]
  },
  {
   "cell_type": "code",
   "execution_count": 2,
   "id": "0c0d26c2",
   "metadata": {},
   "outputs": [],
   "source": [
    "%matplotlib inline\n",
    "pd.set_option('max_columns', None)"
   ]
  },
  {
   "cell_type": "code",
   "execution_count": 3,
   "id": "bb84c225",
   "metadata": {},
   "outputs": [],
   "source": [
    "palette = {'Cura': \"C0\", 'Obito': \"C1\"}"
   ]
  },
  {
   "cell_type": "markdown",
   "id": "d7cbccb9",
   "metadata": {},
   "source": [
    "### Funções Auxiliares"
   ]
  },
  {
   "cell_type": "code",
   "execution_count": 4,
   "id": "7d4f9aa1",
   "metadata": {},
   "outputs": [],
   "source": [
    "def count_plot(dataset, x):\n",
    "    \n",
    "    sns.countplot(data=dataset, x=x, hue='EVOLUCAO', \n",
    "                  hue_order=['Cura','Obito'], palette=palette)\n",
    "    \n",
    "    plt.show()"
   ]
  },
  {
   "cell_type": "markdown",
   "id": "d59cf142",
   "metadata": {},
   "source": [
    "### Pré-processamento"
   ]
  },
  {
   "cell_type": "code",
   "execution_count": 5,
   "id": "ca93c8ab",
   "metadata": {},
   "outputs": [],
   "source": [
    "info_paciente = [\n",
    "    'CS_SEXO', \n",
    "    'NU_IDADE_N', \n",
    "    'TP_IDADE',\n",
    "    'CS_GESTANT',\n",
    "    'UTI',\n",
    "    'SUPORT_VEN',\n",
    "    'CLASSI_FIN',\n",
    "    'EVOLUCAO'\n",
    "]\n",
    "\n",
    "sintomas = [\n",
    "    'FEBRE',\n",
    "    'TOSSE',\n",
    "    'GARGANTA',\n",
    "    'DISPNEIA', \n",
    "    'DESC_RESP',\n",
    "    'SATURACAO', \n",
    "    'DIARREIA',\n",
    "    'VOMITO', \n",
    "    'DOR_ABD',\n",
    "    'FADIGA',\n",
    "    'PERD_OLFT', \n",
    "    'PERD_PALA'\n",
    "]\n",
    "\n",
    "fatores_de_risco = [\n",
    "    'CARDIOPATI',\n",
    "    'HEMATOLOGI',\n",
    "    'SIND_DOWN',\n",
    "    'HEPATICA',\n",
    "    'ASMA',\n",
    "    'DIABETES',\n",
    "    'NEUROLOGIC',\n",
    "    'PNEUMOPATI',\n",
    "    'IMUNODEPRE',\n",
    "    'RENAL',\n",
    "    'OBESIDADE'\n",
    "]\n",
    "\n",
    "vacinas = [\n",
    "    'DOSE_1_COV', \n",
    "    'DOSE_2_COV'\n",
    "]"
   ]
  },
  {
   "cell_type": "code",
   "execution_count": 6,
   "id": "d8706204",
   "metadata": {},
   "outputs": [],
   "source": [
    "usecols2020 = info_paciente + sintomas + fatores_de_risco\n",
    "usecols2021 = usecols2020 + vacinas"
   ]
  },
  {
   "cell_type": "code",
   "execution_count": 36,
   "id": "566ad6ce",
   "metadata": {
    "scrolled": true
   },
   "outputs": [],
   "source": [
    "srag2020 = pd.read_csv('SRAG/INFLUD-29-11-2021.csv', usecols=usecols2020, sep=';')\n",
    "srag2021 = pd.read_csv('SRAG/INFLUD21-29-11-2021.csv', usecols=usecols2021, sep=';')"
   ]
  },
  {
   "cell_type": "code",
   "execution_count": 37,
   "id": "442206b3",
   "metadata": {},
   "outputs": [],
   "source": [
    "srag = pd.concat([srag2020, srag2021], ignore_index=True)"
   ]
  },
  {
   "cell_type": "code",
   "execution_count": 38,
   "id": "11122e81",
   "metadata": {},
   "outputs": [
    {
     "data": {
      "text/html": [
       "<div>\n",
       "<style scoped>\n",
       "    .dataframe tbody tr th:only-of-type {\n",
       "        vertical-align: middle;\n",
       "    }\n",
       "\n",
       "    .dataframe tbody tr th {\n",
       "        vertical-align: top;\n",
       "    }\n",
       "\n",
       "    .dataframe thead th {\n",
       "        text-align: right;\n",
       "    }\n",
       "</style>\n",
       "<table border=\"1\" class=\"dataframe\">\n",
       "  <thead>\n",
       "    <tr style=\"text-align: right;\">\n",
       "      <th></th>\n",
       "      <th>CS_SEXO</th>\n",
       "      <th>NU_IDADE_N</th>\n",
       "      <th>TP_IDADE</th>\n",
       "      <th>CS_GESTANT</th>\n",
       "      <th>FEBRE</th>\n",
       "      <th>TOSSE</th>\n",
       "      <th>GARGANTA</th>\n",
       "      <th>DISPNEIA</th>\n",
       "      <th>DESC_RESP</th>\n",
       "      <th>SATURACAO</th>\n",
       "      <th>DIARREIA</th>\n",
       "      <th>VOMITO</th>\n",
       "      <th>CARDIOPATI</th>\n",
       "      <th>HEMATOLOGI</th>\n",
       "      <th>SIND_DOWN</th>\n",
       "      <th>HEPATICA</th>\n",
       "      <th>ASMA</th>\n",
       "      <th>DIABETES</th>\n",
       "      <th>NEUROLOGIC</th>\n",
       "      <th>PNEUMOPATI</th>\n",
       "      <th>IMUNODEPRE</th>\n",
       "      <th>RENAL</th>\n",
       "      <th>OBESIDADE</th>\n",
       "      <th>UTI</th>\n",
       "      <th>SUPORT_VEN</th>\n",
       "      <th>CLASSI_FIN</th>\n",
       "      <th>EVOLUCAO</th>\n",
       "      <th>DOR_ABD</th>\n",
       "      <th>FADIGA</th>\n",
       "      <th>PERD_OLFT</th>\n",
       "      <th>PERD_PALA</th>\n",
       "      <th>DOSE_1_COV</th>\n",
       "      <th>DOSE_2_COV</th>\n",
       "    </tr>\n",
       "  </thead>\n",
       "  <tbody>\n",
       "    <tr>\n",
       "      <th>0</th>\n",
       "      <td>M</td>\n",
       "      <td>1</td>\n",
       "      <td>3</td>\n",
       "      <td>6</td>\n",
       "      <td>1.0</td>\n",
       "      <td>1.0</td>\n",
       "      <td>2.0</td>\n",
       "      <td>9.0</td>\n",
       "      <td>1.0</td>\n",
       "      <td>1.0</td>\n",
       "      <td>2.0</td>\n",
       "      <td>2.0</td>\n",
       "      <td>NaN</td>\n",
       "      <td>NaN</td>\n",
       "      <td>NaN</td>\n",
       "      <td>NaN</td>\n",
       "      <td>NaN</td>\n",
       "      <td>NaN</td>\n",
       "      <td>NaN</td>\n",
       "      <td>NaN</td>\n",
       "      <td>NaN</td>\n",
       "      <td>NaN</td>\n",
       "      <td>NaN</td>\n",
       "      <td>2.0</td>\n",
       "      <td>2.0</td>\n",
       "      <td>4.0</td>\n",
       "      <td>1.0</td>\n",
       "      <td>NaN</td>\n",
       "      <td>NaN</td>\n",
       "      <td>NaN</td>\n",
       "      <td>NaN</td>\n",
       "      <td>NaN</td>\n",
       "      <td>NaN</td>\n",
       "    </tr>\n",
       "    <tr>\n",
       "      <th>1</th>\n",
       "      <td>M</td>\n",
       "      <td>7</td>\n",
       "      <td>2</td>\n",
       "      <td>6</td>\n",
       "      <td>1.0</td>\n",
       "      <td>1.0</td>\n",
       "      <td>2.0</td>\n",
       "      <td>1.0</td>\n",
       "      <td>1.0</td>\n",
       "      <td>1.0</td>\n",
       "      <td>2.0</td>\n",
       "      <td>2.0</td>\n",
       "      <td>NaN</td>\n",
       "      <td>NaN</td>\n",
       "      <td>NaN</td>\n",
       "      <td>NaN</td>\n",
       "      <td>NaN</td>\n",
       "      <td>NaN</td>\n",
       "      <td>NaN</td>\n",
       "      <td>1.0</td>\n",
       "      <td>1.0</td>\n",
       "      <td>NaN</td>\n",
       "      <td>NaN</td>\n",
       "      <td>2.0</td>\n",
       "      <td>2.0</td>\n",
       "      <td>2.0</td>\n",
       "      <td>1.0</td>\n",
       "      <td>NaN</td>\n",
       "      <td>NaN</td>\n",
       "      <td>NaN</td>\n",
       "      <td>NaN</td>\n",
       "      <td>NaN</td>\n",
       "      <td>NaN</td>\n",
       "    </tr>\n",
       "    <tr>\n",
       "      <th>2</th>\n",
       "      <td>F</td>\n",
       "      <td>57</td>\n",
       "      <td>3</td>\n",
       "      <td>5</td>\n",
       "      <td>1.0</td>\n",
       "      <td>1.0</td>\n",
       "      <td>2.0</td>\n",
       "      <td>1.0</td>\n",
       "      <td>1.0</td>\n",
       "      <td>1.0</td>\n",
       "      <td>2.0</td>\n",
       "      <td>2.0</td>\n",
       "      <td>1.0</td>\n",
       "      <td>2.0</td>\n",
       "      <td>2.0</td>\n",
       "      <td>2.0</td>\n",
       "      <td>2.0</td>\n",
       "      <td>1.0</td>\n",
       "      <td>2.0</td>\n",
       "      <td>2.0</td>\n",
       "      <td>2.0</td>\n",
       "      <td>2.0</td>\n",
       "      <td>2.0</td>\n",
       "      <td>1.0</td>\n",
       "      <td>1.0</td>\n",
       "      <td>4.0</td>\n",
       "      <td>2.0</td>\n",
       "      <td>NaN</td>\n",
       "      <td>NaN</td>\n",
       "      <td>NaN</td>\n",
       "      <td>NaN</td>\n",
       "      <td>NaN</td>\n",
       "      <td>NaN</td>\n",
       "    </tr>\n",
       "    <tr>\n",
       "      <th>3</th>\n",
       "      <td>M</td>\n",
       "      <td>9</td>\n",
       "      <td>2</td>\n",
       "      <td>6</td>\n",
       "      <td>1.0</td>\n",
       "      <td>1.0</td>\n",
       "      <td>2.0</td>\n",
       "      <td>1.0</td>\n",
       "      <td>1.0</td>\n",
       "      <td>1.0</td>\n",
       "      <td>1.0</td>\n",
       "      <td>1.0</td>\n",
       "      <td>NaN</td>\n",
       "      <td>NaN</td>\n",
       "      <td>NaN</td>\n",
       "      <td>NaN</td>\n",
       "      <td>NaN</td>\n",
       "      <td>NaN</td>\n",
       "      <td>NaN</td>\n",
       "      <td>NaN</td>\n",
       "      <td>NaN</td>\n",
       "      <td>NaN</td>\n",
       "      <td>NaN</td>\n",
       "      <td>2.0</td>\n",
       "      <td>1.0</td>\n",
       "      <td>2.0</td>\n",
       "      <td>1.0</td>\n",
       "      <td>NaN</td>\n",
       "      <td>NaN</td>\n",
       "      <td>NaN</td>\n",
       "      <td>NaN</td>\n",
       "      <td>NaN</td>\n",
       "      <td>NaN</td>\n",
       "    </tr>\n",
       "    <tr>\n",
       "      <th>4</th>\n",
       "      <td>M</td>\n",
       "      <td>1</td>\n",
       "      <td>3</td>\n",
       "      <td>6</td>\n",
       "      <td>1.0</td>\n",
       "      <td>1.0</td>\n",
       "      <td>1.0</td>\n",
       "      <td>2.0</td>\n",
       "      <td>1.0</td>\n",
       "      <td>2.0</td>\n",
       "      <td>2.0</td>\n",
       "      <td>1.0</td>\n",
       "      <td>NaN</td>\n",
       "      <td>NaN</td>\n",
       "      <td>NaN</td>\n",
       "      <td>NaN</td>\n",
       "      <td>NaN</td>\n",
       "      <td>NaN</td>\n",
       "      <td>NaN</td>\n",
       "      <td>NaN</td>\n",
       "      <td>NaN</td>\n",
       "      <td>NaN</td>\n",
       "      <td>NaN</td>\n",
       "      <td>2.0</td>\n",
       "      <td>3.0</td>\n",
       "      <td>NaN</td>\n",
       "      <td>NaN</td>\n",
       "      <td>NaN</td>\n",
       "      <td>NaN</td>\n",
       "      <td>NaN</td>\n",
       "      <td>NaN</td>\n",
       "      <td>NaN</td>\n",
       "      <td>NaN</td>\n",
       "    </tr>\n",
       "  </tbody>\n",
       "</table>\n",
       "</div>"
      ],
      "text/plain": [
       "  CS_SEXO  NU_IDADE_N  TP_IDADE  CS_GESTANT  FEBRE  TOSSE  GARGANTA  DISPNEIA  \\\n",
       "0       M           1         3           6    1.0    1.0       2.0       9.0   \n",
       "1       M           7         2           6    1.0    1.0       2.0       1.0   \n",
       "2       F          57         3           5    1.0    1.0       2.0       1.0   \n",
       "3       M           9         2           6    1.0    1.0       2.0       1.0   \n",
       "4       M           1         3           6    1.0    1.0       1.0       2.0   \n",
       "\n",
       "   DESC_RESP  SATURACAO  DIARREIA  VOMITO  CARDIOPATI  HEMATOLOGI  SIND_DOWN  \\\n",
       "0        1.0        1.0       2.0     2.0         NaN         NaN        NaN   \n",
       "1        1.0        1.0       2.0     2.0         NaN         NaN        NaN   \n",
       "2        1.0        1.0       2.0     2.0         1.0         2.0        2.0   \n",
       "3        1.0        1.0       1.0     1.0         NaN         NaN        NaN   \n",
       "4        1.0        2.0       2.0     1.0         NaN         NaN        NaN   \n",
       "\n",
       "   HEPATICA  ASMA  DIABETES  NEUROLOGIC  PNEUMOPATI  IMUNODEPRE  RENAL  \\\n",
       "0       NaN   NaN       NaN         NaN         NaN         NaN    NaN   \n",
       "1       NaN   NaN       NaN         NaN         1.0         1.0    NaN   \n",
       "2       2.0   2.0       1.0         2.0         2.0         2.0    2.0   \n",
       "3       NaN   NaN       NaN         NaN         NaN         NaN    NaN   \n",
       "4       NaN   NaN       NaN         NaN         NaN         NaN    NaN   \n",
       "\n",
       "   OBESIDADE  UTI  SUPORT_VEN  CLASSI_FIN  EVOLUCAO  DOR_ABD  FADIGA  \\\n",
       "0        NaN  2.0         2.0         4.0       1.0      NaN     NaN   \n",
       "1        NaN  2.0         2.0         2.0       1.0      NaN     NaN   \n",
       "2        2.0  1.0         1.0         4.0       2.0      NaN     NaN   \n",
       "3        NaN  2.0         1.0         2.0       1.0      NaN     NaN   \n",
       "4        NaN  2.0         3.0         NaN       NaN      NaN     NaN   \n",
       "\n",
       "   PERD_OLFT  PERD_PALA DOSE_1_COV DOSE_2_COV  \n",
       "0        NaN        NaN        NaN        NaN  \n",
       "1        NaN        NaN        NaN        NaN  \n",
       "2        NaN        NaN        NaN        NaN  \n",
       "3        NaN        NaN        NaN        NaN  \n",
       "4        NaN        NaN        NaN        NaN  "
      ]
     },
     "execution_count": 38,
     "metadata": {},
     "output_type": "execute_result"
    }
   ],
   "source": [
    "srag.head()"
   ]
  },
  {
   "cell_type": "code",
   "execution_count": 39,
   "id": "5f57a23e",
   "metadata": {},
   "outputs": [],
   "source": [
    "#Pacientes com covid e com evolucao definida\n",
    "srag = srag[(srag['CLASSI_FIN'] == 5) & (srag['EVOLUCAO'].isin([1, 2]))]\n",
    "srag = srag.drop(columns=['CLASSI_FIN'])"
   ]
  },
  {
   "cell_type": "code",
   "execution_count": 40,
   "id": "a59496b0",
   "metadata": {},
   "outputs": [],
   "source": [
    "#Apenas idade em anos\n",
    "srag = srag[srag['TP_IDADE'] == 3]\n",
    "srag = srag.drop(columns=['TP_IDADE'])"
   ]
  },
  {
   "cell_type": "code",
   "execution_count": 41,
   "id": "46178648",
   "metadata": {},
   "outputs": [],
   "source": [
    "#Remove gestantes\n",
    "srag = srag[srag['CS_GESTANT'].isin([5, 6, 9])]\n",
    "srag = srag.drop(columns=['CS_GESTANT'])"
   ]
  },
  {
   "cell_type": "code",
   "execution_count": 42,
   "id": "2e19b413",
   "metadata": {},
   "outputs": [],
   "source": [
    "srag = srag[srag['CS_SEXO'] != 'I']"
   ]
  },
  {
   "cell_type": "code",
   "execution_count": 43,
   "id": "5dc2f512",
   "metadata": {},
   "outputs": [],
   "source": [
    "for column in vacinas:\n",
    "    srag.loc[srag[column].notnull(), column] = 1\n",
    "    srag.loc[srag[column].isnull(), column] = 0"
   ]
  },
  {
   "cell_type": "code",
   "execution_count": 44,
   "id": "d9d01a50",
   "metadata": {},
   "outputs": [],
   "source": [
    "for column in sintomas + fatores_de_risco:\n",
    "    srag[column] = srag[column].replace({np.nan: 2, 9: 2})"
   ]
  },
  {
   "cell_type": "code",
   "execution_count": 45,
   "id": "e70f716c",
   "metadata": {},
   "outputs": [],
   "source": [
    "for column in ['UTI', 'SUPORT_VEN']:\n",
    "    srag = srag[srag[column] != 9] "
   ]
  },
  {
   "cell_type": "code",
   "execution_count": 46,
   "id": "e120a37a",
   "metadata": {},
   "outputs": [],
   "source": [
    "srag = srag.dropna()"
   ]
  },
  {
   "cell_type": "code",
   "execution_count": 47,
   "id": "b037ed27",
   "metadata": {},
   "outputs": [
    {
     "data": {
      "text/plain": [
       "(1363322, 30)"
      ]
     },
     "execution_count": 47,
     "metadata": {},
     "output_type": "execute_result"
    }
   ],
   "source": [
    "srag.shape"
   ]
  },
  {
   "cell_type": "code",
   "execution_count": 48,
   "id": "7b9b0e41",
   "metadata": {
    "scrolled": false
   },
   "outputs": [
    {
     "data": {
      "text/plain": [
       "<AxesSubplot:>"
      ]
     },
     "execution_count": 48,
     "metadata": {},
     "output_type": "execute_result"
    },
    {
     "data": {
      "image/png": "[encoded data removed]",
      "text/plain": [
       "<Figure size 432x288 with 1 Axes>"
      ]
     },
     "metadata": {
      "needs_background": "light"
     },
     "output_type": "display_data"
    }
   ],
   "source": [
    "srag['NU_IDADE_N'].plot.box()"
   ]
  },
  {
   "cell_type": "code",
   "execution_count": 49,
   "id": "d86571fe",
   "metadata": {},
   "outputs": [],
   "source": [
    "srag = srag[(srag['NU_IDADE_N'] > 0) & (srag['NU_IDADE_N'] <= 120)]"
   ]
  },
  {
   "cell_type": "code",
   "execution_count": 50,
   "id": "065b26b7",
   "metadata": {},
   "outputs": [],
   "source": [
    "srag['EVOLUCAO'] = srag['EVOLUCAO'].replace({1: 'Cura', 2: 'Obito'})"
   ]
  },
  {
   "cell_type": "code",
   "execution_count": 51,
   "id": "772b094b",
   "metadata": {},
   "outputs": [],
   "source": [
    "last_columns = ['SUPORT_VEN', 'UTI', 'EVOLUCAO']\n",
    "\n",
    "srag_last_columns = srag[last_columns]\n",
    "srag = srag.drop(columns=last_columns)"
   ]
  },
  {
   "cell_type": "code",
   "execution_count": 52,
   "id": "de6553c7",
   "metadata": {},
   "outputs": [],
   "source": [
    "srag = pd.concat([srag, srag_last_columns], axis=1, join=\"inner\")"
   ]
  },
  {
   "cell_type": "code",
   "execution_count": 53,
   "id": "fea3895f",
   "metadata": {},
   "outputs": [
    {
     "data": {
      "text/html": [
       "<div>\n",
       "<style scoped>\n",
       "    .dataframe tbody tr th:only-of-type {\n",
       "        vertical-align: middle;\n",
       "    }\n",
       "\n",
       "    .dataframe tbody tr th {\n",
       "        vertical-align: top;\n",
       "    }\n",
       "\n",
       "    .dataframe thead th {\n",
       "        text-align: right;\n",
       "    }\n",
       "</style>\n",
       "<table border=\"1\" class=\"dataframe\">\n",
       "  <thead>\n",
       "    <tr style=\"text-align: right;\">\n",
       "      <th></th>\n",
       "      <th>CS_SEXO</th>\n",
       "      <th>NU_IDADE_N</th>\n",
       "      <th>FEBRE</th>\n",
       "      <th>TOSSE</th>\n",
       "      <th>GARGANTA</th>\n",
       "      <th>DISPNEIA</th>\n",
       "      <th>DESC_RESP</th>\n",
       "      <th>SATURACAO</th>\n",
       "      <th>DIARREIA</th>\n",
       "      <th>VOMITO</th>\n",
       "      <th>CARDIOPATI</th>\n",
       "      <th>HEMATOLOGI</th>\n",
       "      <th>SIND_DOWN</th>\n",
       "      <th>HEPATICA</th>\n",
       "      <th>ASMA</th>\n",
       "      <th>DIABETES</th>\n",
       "      <th>NEUROLOGIC</th>\n",
       "      <th>PNEUMOPATI</th>\n",
       "      <th>IMUNODEPRE</th>\n",
       "      <th>RENAL</th>\n",
       "      <th>OBESIDADE</th>\n",
       "      <th>DOR_ABD</th>\n",
       "      <th>FADIGA</th>\n",
       "      <th>PERD_OLFT</th>\n",
       "      <th>PERD_PALA</th>\n",
       "      <th>DOSE_1_COV</th>\n",
       "      <th>DOSE_2_COV</th>\n",
       "      <th>SUPORT_VEN</th>\n",
       "      <th>UTI</th>\n",
       "      <th>EVOLUCAO</th>\n",
       "    </tr>\n",
       "  </thead>\n",
       "  <tbody>\n",
       "    <tr>\n",
       "      <th>24</th>\n",
       "      <td>M</td>\n",
       "      <td>57</td>\n",
       "      <td>1.0</td>\n",
       "      <td>1.0</td>\n",
       "      <td>2.0</td>\n",
       "      <td>2.0</td>\n",
       "      <td>1.0</td>\n",
       "      <td>1.0</td>\n",
       "      <td>2.0</td>\n",
       "      <td>2.0</td>\n",
       "      <td>2.0</td>\n",
       "      <td>2.0</td>\n",
       "      <td>2.0</td>\n",
       "      <td>2.0</td>\n",
       "      <td>2.0</td>\n",
       "      <td>2.0</td>\n",
       "      <td>2.0</td>\n",
       "      <td>2.0</td>\n",
       "      <td>2.0</td>\n",
       "      <td>2.0</td>\n",
       "      <td>2.0</td>\n",
       "      <td>2.0</td>\n",
       "      <td>2.0</td>\n",
       "      <td>2.0</td>\n",
       "      <td>2.0</td>\n",
       "      <td>0</td>\n",
       "      <td>0</td>\n",
       "      <td>2.0</td>\n",
       "      <td>2.0</td>\n",
       "      <td>Cura</td>\n",
       "    </tr>\n",
       "    <tr>\n",
       "      <th>32</th>\n",
       "      <td>M</td>\n",
       "      <td>79</td>\n",
       "      <td>1.0</td>\n",
       "      <td>1.0</td>\n",
       "      <td>2.0</td>\n",
       "      <td>1.0</td>\n",
       "      <td>1.0</td>\n",
       "      <td>1.0</td>\n",
       "      <td>2.0</td>\n",
       "      <td>2.0</td>\n",
       "      <td>1.0</td>\n",
       "      <td>2.0</td>\n",
       "      <td>2.0</td>\n",
       "      <td>2.0</td>\n",
       "      <td>2.0</td>\n",
       "      <td>2.0</td>\n",
       "      <td>2.0</td>\n",
       "      <td>2.0</td>\n",
       "      <td>2.0</td>\n",
       "      <td>2.0</td>\n",
       "      <td>2.0</td>\n",
       "      <td>2.0</td>\n",
       "      <td>2.0</td>\n",
       "      <td>2.0</td>\n",
       "      <td>2.0</td>\n",
       "      <td>0</td>\n",
       "      <td>0</td>\n",
       "      <td>2.0</td>\n",
       "      <td>2.0</td>\n",
       "      <td>Obito</td>\n",
       "    </tr>\n",
       "    <tr>\n",
       "      <th>35</th>\n",
       "      <td>F</td>\n",
       "      <td>61</td>\n",
       "      <td>1.0</td>\n",
       "      <td>1.0</td>\n",
       "      <td>2.0</td>\n",
       "      <td>1.0</td>\n",
       "      <td>1.0</td>\n",
       "      <td>1.0</td>\n",
       "      <td>2.0</td>\n",
       "      <td>2.0</td>\n",
       "      <td>2.0</td>\n",
       "      <td>2.0</td>\n",
       "      <td>2.0</td>\n",
       "      <td>2.0</td>\n",
       "      <td>2.0</td>\n",
       "      <td>2.0</td>\n",
       "      <td>2.0</td>\n",
       "      <td>2.0</td>\n",
       "      <td>2.0</td>\n",
       "      <td>2.0</td>\n",
       "      <td>2.0</td>\n",
       "      <td>2.0</td>\n",
       "      <td>2.0</td>\n",
       "      <td>2.0</td>\n",
       "      <td>2.0</td>\n",
       "      <td>0</td>\n",
       "      <td>0</td>\n",
       "      <td>2.0</td>\n",
       "      <td>2.0</td>\n",
       "      <td>Cura</td>\n",
       "    </tr>\n",
       "    <tr>\n",
       "      <th>38</th>\n",
       "      <td>F</td>\n",
       "      <td>92</td>\n",
       "      <td>1.0</td>\n",
       "      <td>1.0</td>\n",
       "      <td>2.0</td>\n",
       "      <td>2.0</td>\n",
       "      <td>2.0</td>\n",
       "      <td>1.0</td>\n",
       "      <td>2.0</td>\n",
       "      <td>2.0</td>\n",
       "      <td>1.0</td>\n",
       "      <td>2.0</td>\n",
       "      <td>2.0</td>\n",
       "      <td>2.0</td>\n",
       "      <td>2.0</td>\n",
       "      <td>2.0</td>\n",
       "      <td>1.0</td>\n",
       "      <td>2.0</td>\n",
       "      <td>2.0</td>\n",
       "      <td>2.0</td>\n",
       "      <td>2.0</td>\n",
       "      <td>2.0</td>\n",
       "      <td>2.0</td>\n",
       "      <td>2.0</td>\n",
       "      <td>2.0</td>\n",
       "      <td>0</td>\n",
       "      <td>0</td>\n",
       "      <td>2.0</td>\n",
       "      <td>2.0</td>\n",
       "      <td>Obito</td>\n",
       "    </tr>\n",
       "    <tr>\n",
       "      <th>64</th>\n",
       "      <td>F</td>\n",
       "      <td>54</td>\n",
       "      <td>1.0</td>\n",
       "      <td>1.0</td>\n",
       "      <td>2.0</td>\n",
       "      <td>1.0</td>\n",
       "      <td>1.0</td>\n",
       "      <td>1.0</td>\n",
       "      <td>2.0</td>\n",
       "      <td>2.0</td>\n",
       "      <td>1.0</td>\n",
       "      <td>2.0</td>\n",
       "      <td>2.0</td>\n",
       "      <td>2.0</td>\n",
       "      <td>2.0</td>\n",
       "      <td>2.0</td>\n",
       "      <td>2.0</td>\n",
       "      <td>2.0</td>\n",
       "      <td>2.0</td>\n",
       "      <td>2.0</td>\n",
       "      <td>1.0</td>\n",
       "      <td>2.0</td>\n",
       "      <td>2.0</td>\n",
       "      <td>2.0</td>\n",
       "      <td>2.0</td>\n",
       "      <td>0</td>\n",
       "      <td>0</td>\n",
       "      <td>1.0</td>\n",
       "      <td>1.0</td>\n",
       "      <td>Obito</td>\n",
       "    </tr>\n",
       "  </tbody>\n",
       "</table>\n",
       "</div>"
      ],
      "text/plain": [
       "   CS_SEXO  NU_IDADE_N  FEBRE  TOSSE  GARGANTA  DISPNEIA  DESC_RESP  \\\n",
       "24       M          57    1.0    1.0       2.0       2.0        1.0   \n",
       "32       M          79    1.0    1.0       2.0       1.0        1.0   \n",
       "35       F          61    1.0    1.0       2.0       1.0        1.0   \n",
       "38       F          92    1.0    1.0       2.0       2.0        2.0   \n",
       "64       F          54    1.0    1.0       2.0       1.0        1.0   \n",
       "\n",
       "    SATURACAO  DIARREIA  VOMITO  CARDIOPATI  HEMATOLOGI  SIND_DOWN  HEPATICA  \\\n",
       "24        1.0       2.0     2.0         2.0         2.0        2.0       2.0   \n",
       "32        1.0       2.0     2.0         1.0         2.0        2.0       2.0   \n",
       "35        1.0       2.0     2.0         2.0         2.0        2.0       2.0   \n",
       "38        1.0       2.0     2.0         1.0         2.0        2.0       2.0   \n",
       "64        1.0       2.0     2.0         1.0         2.0        2.0       2.0   \n",
       "\n",
       "    ASMA  DIABETES  NEUROLOGIC  PNEUMOPATI  IMUNODEPRE  RENAL  OBESIDADE  \\\n",
       "24   2.0       2.0         2.0         2.0         2.0    2.0        2.0   \n",
       "32   2.0       2.0         2.0         2.0         2.0    2.0        2.0   \n",
       "35   2.0       2.0         2.0         2.0         2.0    2.0        2.0   \n",
       "38   2.0       2.0         1.0         2.0         2.0    2.0        2.0   \n",
       "64   2.0       2.0         2.0         2.0         2.0    2.0        1.0   \n",
       "\n",
       "    DOR_ABD  FADIGA  PERD_OLFT  PERD_PALA DOSE_1_COV DOSE_2_COV  SUPORT_VEN  \\\n",
       "24      2.0     2.0        2.0        2.0          0          0         2.0   \n",
       "32      2.0     2.0        2.0        2.0          0          0         2.0   \n",
       "35      2.0     2.0        2.0        2.0          0          0         2.0   \n",
       "38      2.0     2.0        2.0        2.0          0          0         2.0   \n",
       "64      2.0     2.0        2.0        2.0          0          0         1.0   \n",
       "\n",
       "    UTI EVOLUCAO  \n",
       "24  2.0     Cura  \n",
       "32  2.0    Obito  \n",
       "35  2.0     Cura  \n",
       "38  2.0    Obito  \n",
       "64  1.0    Obito  "
      ]
     },
     "execution_count": 53,
     "metadata": {},
     "output_type": "execute_result"
    }
   ],
   "source": [
    "srag.head()"
   ]
  },
  {
   "cell_type": "code",
   "execution_count": 54,
   "id": "ab5b91b5",
   "metadata": {},
   "outputs": [],
   "source": [
    "srag = srag.drop(columns=['TOSSE', 'GARGANTA', 'FADIGA', 'PERD_PALA', 'PERD_OLFT'])"
   ]
  },
  {
   "cell_type": "code",
   "execution_count": 55,
   "id": "3b2028a8",
   "metadata": {},
   "outputs": [
    {
     "data": {
      "text/html": [
       "<div>\n",
       "<style scoped>\n",
       "    .dataframe tbody tr th:only-of-type {\n",
       "        vertical-align: middle;\n",
       "    }\n",
       "\n",
       "    .dataframe tbody tr th {\n",
       "        vertical-align: top;\n",
       "    }\n",
       "\n",
       "    .dataframe thead th {\n",
       "        text-align: right;\n",
       "    }\n",
       "</style>\n",
       "<table border=\"1\" class=\"dataframe\">\n",
       "  <thead>\n",
       "    <tr style=\"text-align: right;\">\n",
       "      <th></th>\n",
       "      <th>CS_SEXO</th>\n",
       "      <th>NU_IDADE_N</th>\n",
       "      <th>FEBRE</th>\n",
       "      <th>DISPNEIA</th>\n",
       "      <th>DESC_RESP</th>\n",
       "      <th>SATURACAO</th>\n",
       "      <th>DIARREIA</th>\n",
       "      <th>VOMITO</th>\n",
       "      <th>CARDIOPATI</th>\n",
       "      <th>HEMATOLOGI</th>\n",
       "      <th>SIND_DOWN</th>\n",
       "      <th>HEPATICA</th>\n",
       "      <th>ASMA</th>\n",
       "      <th>DIABETES</th>\n",
       "      <th>NEUROLOGIC</th>\n",
       "      <th>PNEUMOPATI</th>\n",
       "      <th>IMUNODEPRE</th>\n",
       "      <th>RENAL</th>\n",
       "      <th>OBESIDADE</th>\n",
       "      <th>DOR_ABD</th>\n",
       "      <th>DOSE_1_COV</th>\n",
       "      <th>DOSE_2_COV</th>\n",
       "      <th>SUPORT_VEN</th>\n",
       "      <th>UTI</th>\n",
       "      <th>EVOLUCAO</th>\n",
       "    </tr>\n",
       "  </thead>\n",
       "  <tbody>\n",
       "    <tr>\n",
       "      <th>24</th>\n",
       "      <td>M</td>\n",
       "      <td>57</td>\n",
       "      <td>1.0</td>\n",
       "      <td>2.0</td>\n",
       "      <td>1.0</td>\n",
       "      <td>1.0</td>\n",
       "      <td>2.0</td>\n",
       "      <td>2.0</td>\n",
       "      <td>2.0</td>\n",
       "      <td>2.0</td>\n",
       "      <td>2.0</td>\n",
       "      <td>2.0</td>\n",
       "      <td>2.0</td>\n",
       "      <td>2.0</td>\n",
       "      <td>2.0</td>\n",
       "      <td>2.0</td>\n",
       "      <td>2.0</td>\n",
       "      <td>2.0</td>\n",
       "      <td>2.0</td>\n",
       "      <td>2.0</td>\n",
       "      <td>0</td>\n",
       "      <td>0</td>\n",
       "      <td>2.0</td>\n",
       "      <td>2.0</td>\n",
       "      <td>Cura</td>\n",
       "    </tr>\n",
       "    <tr>\n",
       "      <th>32</th>\n",
       "      <td>M</td>\n",
       "      <td>79</td>\n",
       "      <td>1.0</td>\n",
       "      <td>1.0</td>\n",
       "      <td>1.0</td>\n",
       "      <td>1.0</td>\n",
       "      <td>2.0</td>\n",
       "      <td>2.0</td>\n",
       "      <td>1.0</td>\n",
       "      <td>2.0</td>\n",
       "      <td>2.0</td>\n",
       "      <td>2.0</td>\n",
       "      <td>2.0</td>\n",
       "      <td>2.0</td>\n",
       "      <td>2.0</td>\n",
       "      <td>2.0</td>\n",
       "      <td>2.0</td>\n",
       "      <td>2.0</td>\n",
       "      <td>2.0</td>\n",
       "      <td>2.0</td>\n",
       "      <td>0</td>\n",
       "      <td>0</td>\n",
       "      <td>2.0</td>\n",
       "      <td>2.0</td>\n",
       "      <td>Obito</td>\n",
       "    </tr>\n",
       "    <tr>\n",
       "      <th>35</th>\n",
       "      <td>F</td>\n",
       "      <td>61</td>\n",
       "      <td>1.0</td>\n",
       "      <td>1.0</td>\n",
       "      <td>1.0</td>\n",
       "      <td>1.0</td>\n",
       "      <td>2.0</td>\n",
       "      <td>2.0</td>\n",
       "      <td>2.0</td>\n",
       "      <td>2.0</td>\n",
       "      <td>2.0</td>\n",
       "      <td>2.0</td>\n",
       "      <td>2.0</td>\n",
       "      <td>2.0</td>\n",
       "      <td>2.0</td>\n",
       "      <td>2.0</td>\n",
       "      <td>2.0</td>\n",
       "      <td>2.0</td>\n",
       "      <td>2.0</td>\n",
       "      <td>2.0</td>\n",
       "      <td>0</td>\n",
       "      <td>0</td>\n",
       "      <td>2.0</td>\n",
       "      <td>2.0</td>\n",
       "      <td>Cura</td>\n",
       "    </tr>\n",
       "    <tr>\n",
       "      <th>38</th>\n",
       "      <td>F</td>\n",
       "      <td>92</td>\n",
       "      <td>1.0</td>\n",
       "      <td>2.0</td>\n",
       "      <td>2.0</td>\n",
       "      <td>1.0</td>\n",
       "      <td>2.0</td>\n",
       "      <td>2.0</td>\n",
       "      <td>1.0</td>\n",
       "      <td>2.0</td>\n",
       "      <td>2.0</td>\n",
       "      <td>2.0</td>\n",
       "      <td>2.0</td>\n",
       "      <td>2.0</td>\n",
       "      <td>1.0</td>\n",
       "      <td>2.0</td>\n",
       "      <td>2.0</td>\n",
       "      <td>2.0</td>\n",
       "      <td>2.0</td>\n",
       "      <td>2.0</td>\n",
       "      <td>0</td>\n",
       "      <td>0</td>\n",
       "      <td>2.0</td>\n",
       "      <td>2.0</td>\n",
       "      <td>Obito</td>\n",
       "    </tr>\n",
       "    <tr>\n",
       "      <th>64</th>\n",
       "      <td>F</td>\n",
       "      <td>54</td>\n",
       "      <td>1.0</td>\n",
       "      <td>1.0</td>\n",
       "      <td>1.0</td>\n",
       "      <td>1.0</td>\n",
       "      <td>2.0</td>\n",
       "      <td>2.0</td>\n",
       "      <td>1.0</td>\n",
       "      <td>2.0</td>\n",
       "      <td>2.0</td>\n",
       "      <td>2.0</td>\n",
       "      <td>2.0</td>\n",
       "      <td>2.0</td>\n",
       "      <td>2.0</td>\n",
       "      <td>2.0</td>\n",
       "      <td>2.0</td>\n",
       "      <td>2.0</td>\n",
       "      <td>1.0</td>\n",
       "      <td>2.0</td>\n",
       "      <td>0</td>\n",
       "      <td>0</td>\n",
       "      <td>1.0</td>\n",
       "      <td>1.0</td>\n",
       "      <td>Obito</td>\n",
       "    </tr>\n",
       "  </tbody>\n",
       "</table>\n",
       "</div>"
      ],
      "text/plain": [
       "   CS_SEXO  NU_IDADE_N  FEBRE  DISPNEIA  DESC_RESP  SATURACAO  DIARREIA  \\\n",
       "24       M          57    1.0       2.0        1.0        1.0       2.0   \n",
       "32       M          79    1.0       1.0        1.0        1.0       2.0   \n",
       "35       F          61    1.0       1.0        1.0        1.0       2.0   \n",
       "38       F          92    1.0       2.0        2.0        1.0       2.0   \n",
       "64       F          54    1.0       1.0        1.0        1.0       2.0   \n",
       "\n",
       "    VOMITO  CARDIOPATI  HEMATOLOGI  SIND_DOWN  HEPATICA  ASMA  DIABETES  \\\n",
       "24     2.0         2.0         2.0        2.0       2.0   2.0       2.0   \n",
       "32     2.0         1.0         2.0        2.0       2.0   2.0       2.0   \n",
       "35     2.0         2.0         2.0        2.0       2.0   2.0       2.0   \n",
       "38     2.0         1.0         2.0        2.0       2.0   2.0       2.0   \n",
       "64     2.0         1.0         2.0        2.0       2.0   2.0       2.0   \n",
       "\n",
       "    NEUROLOGIC  PNEUMOPATI  IMUNODEPRE  RENAL  OBESIDADE  DOR_ABD DOSE_1_COV  \\\n",
       "24         2.0         2.0         2.0    2.0        2.0      2.0          0   \n",
       "32         2.0         2.0         2.0    2.0        2.0      2.0          0   \n",
       "35         2.0         2.0         2.0    2.0        2.0      2.0          0   \n",
       "38         1.0         2.0         2.0    2.0        2.0      2.0          0   \n",
       "64         2.0         2.0         2.0    2.0        1.0      2.0          0   \n",
       "\n",
       "   DOSE_2_COV  SUPORT_VEN  UTI EVOLUCAO  \n",
       "24          0         2.0  2.0     Cura  \n",
       "32          0         2.0  2.0    Obito  \n",
       "35          0         2.0  2.0     Cura  \n",
       "38          0         2.0  2.0    Obito  \n",
       "64          0         1.0  1.0    Obito  "
      ]
     },
     "execution_count": 55,
     "metadata": {},
     "output_type": "execute_result"
    }
   ],
   "source": [
    "srag.head()"
   ]
  },
  {
   "cell_type": "markdown",
   "id": "dbf798e1",
   "metadata": {},
   "source": [
    "### Análise Exploratória"
   ]
  },
  {
   "cell_type": "markdown",
   "id": "90640b4b",
   "metadata": {},
   "source": [
    "## EVOLUCAO"
   ]
  },
  {
   "cell_type": "code",
   "execution_count": 27,
   "id": "775ba460",
   "metadata": {
    "scrolled": true
   },
   "outputs": [
    {
     "data": {
      "image/png": "[encoded data removed]",
      "text/plain": [
       "<Figure size 864x288 with 1 Axes>"
      ]
     },
     "metadata": {
      "needs_background": "light"
     },
     "output_type": "display_data"
    }
   ],
   "source": [
    "graph = sns.displot(srag, x='NU_IDADE_N', hue='EVOLUCAO', kind=\"kde\", fill=True, palette=palette)\n",
    "graph.fig.set_size_inches(12,4)\n",
    "plt.show()"
   ]
  },
  {
   "cell_type": "code",
   "execution_count": 29,
   "id": "d5d776e0",
   "metadata": {},
   "outputs": [
    {
     "data": {
      "image/png": "[encoded data removed]",
      "text/plain": [
       "<Figure size 432x288 with 1 Axes>"
      ]
     },
     "metadata": {
      "needs_background": "light"
     },
     "output_type": "display_data"
    },
    {
     "data": {
      "image/png": "[encoded data removed]",
      "text/plain": [
       "<Figure size 432x288 with 1 Axes>"
      ]
     },
     "metadata": {
      "needs_background": "light"
     },
     "output_type": "display_data"
    }
   ],
   "source": [
    "for info in ['UTI', 'SUPORT_VEN']:\n",
    "    count_plot(srag, info)"
   ]
  },
  {
   "cell_type": "code",
   "execution_count": 28,
   "id": "7666d6ec",
   "metadata": {},
   "outputs": [
    {
     "data": {
      "image/png": "[encoded data removed]",
      "text/plain": [
       "<Figure size 432x288 with 1 Axes>"
      ]
     },
     "metadata": {
      "needs_background": "light"
     },
     "output_type": "display_data"
    },
    {
     "data": {
      "image/png": "[encoded data removed]",
      "text/plain": [
       "<Figure size 432x288 with 1 Axes>"
      ]
     },
     "metadata": {
      "needs_background": "light"
     },
     "output_type": "display_data"
    }
   ],
   "source": [
    "for vacina in vacinas:\n",
    "    grupo = srag[srag[vacina] == 1]\n",
    "    count_plot(grupo, vacina)"
   ]
  },
  {
   "cell_type": "code",
   "execution_count": 30,
   "id": "2fb0c66e",
   "metadata": {
    "scrolled": false
   },
   "outputs": [
    {
     "data": {
      "image/png": "[encoded data removed]",
      "text/plain": [
       "<Figure size 432x288 with 1 Axes>"
      ]
     },
     "metadata": {
      "needs_background": "light"
     },
     "output_type": "display_data"
    },
    {
     "data": {
      "image/png": "[encoded data removed]",
      "text/plain": [
       "<Figure size 432x288 with 1 Axes>"
      ]
     },
     "metadata": {
      "needs_background": "light"
     },
     "output_type": "display_data"
    },
    {
     "data": {
      "image/png": "[encoded data removed]",
      "text/plain": [
       "<Figure size 432x288 with 1 Axes>"
      ]
     },
     "metadata": {
      "needs_background": "light"
     },
     "output_type": "display_data"
    },
    {
     "data": {
      "image/png": "[encoded data removed]",
      "text/plain": [
       "<Figure size 432x288 with 1 Axes>"
      ]
     },
     "metadata": {
      "needs_background": "light"
     },
     "output_type": "display_data"
    },
    {
     "data": {
      "image/png": "[encoded data removed]",
      "text/plain": [
       "<Figure size 432x288 with 1 Axes>"
      ]
     },
     "metadata": {
      "needs_background": "light"
     },
     "output_type": "display_data"
    },
    {
     "data": {
      "image/png": "[encoded data removed]",
      "text/plain": [
       "<Figure size 432x288 with 1 Axes>"
      ]
     },
     "metadata": {
      "needs_background": "light"
     },
     "output_type": "display_data"
    },
    {
     "data": {
      "image/png": "[encoded data removed]",
      "text/plain": [
       "<Figure size 432x288 with 1 Axes>"
      ]
     },
     "metadata": {
      "needs_background": "light"
     },
     "output_type": "display_data"
    },
    {
     "data": {
      "image/png": "[encoded data removed]",
      "text/plain": [
       "<Figure size 432x288 with 1 Axes>"
      ]
     },
     "metadata": {
      "needs_background": "light"
     },
     "output_type": "display_data"
    },
    {
     "data": {
      "image/png": "[encoded data removed]",
      "text/plain": [
       "<Figure size 432x288 with 1 Axes>"
      ]
     },
     "metadata": {
      "needs_background": "light"
     },
     "output_type": "display_data"
    },
    {
     "data": {
      "image/png": "[encoded data removed]",
      "text/plain": [
       "<Figure size 432x288 with 1 Axes>"
      ]
     },
     "metadata": {
      "needs_background": "light"
     },
     "output_type": "display_data"
    },
    {
     "data": {
      "image/png": "[encoded data removed]",
      "text/plain": [
       "<Figure size 432x288 with 1 Axes>"
      ]
     },
     "metadata": {
      "needs_background": "light"
     },
     "output_type": "display_data"
    }
   ],
   "source": [
    "for fator in fatores_de_risco:\n",
    "    grupo = srag[srag[fator] == 1]\n",
    "    count_plot(grupo, fator)"
   ]
  },
  {
   "cell_type": "markdown",
   "id": "46ee3bf4",
   "metadata": {},
   "source": [
    "### Balanceamento das Classes Alvo"
   ]
  },
  {
   "cell_type": "code",
   "execution_count": 56,
   "id": "e8f5c16e",
   "metadata": {
    "scrolled": true
   },
   "outputs": [
    {
     "data": {
      "text/plain": [
       "Cura     0.659637\n",
       "Obito    0.340363\n",
       "Name: EVOLUCAO, dtype: float64"
      ]
     },
     "execution_count": 56,
     "metadata": {},
     "output_type": "execute_result"
    }
   ],
   "source": [
    "srag['EVOLUCAO'].value_counts()/srag.shape[0]"
   ]
  },
  {
   "cell_type": "markdown",
   "id": "9c92ddac",
   "metadata": {},
   "source": [
    "### Downsampling"
   ]
  },
  {
   "cell_type": "code",
   "execution_count": 57,
   "id": "4713b664",
   "metadata": {},
   "outputs": [],
   "source": [
    "# Serparação das classes minoritárias e majoritárias\n",
    "srag_majority = srag[srag['EVOLUCAO'] == 'Cura']\n",
    "srag_minority = srag[srag['EVOLUCAO'] == 'Obito']\n",
    "\n",
    "# Tamanho da classe minoritária\n",
    "minority_lenght = srag_minority.shape[0]\n",
    "\n",
    "# Downsample da classe majoritária\n",
    "majority_resampled = resample(\n",
    "    srag_majority, \n",
    "    replace=False, # Downsampling sem reposição\n",
    "    n_samples=minority_lenght, \n",
    "    random_state=42 # Seed \n",
    ") \n",
    " \n",
    "# Formação do dataset balanceado\n",
    "balanced_srag = pd.concat([majority_resampled, srag_minority])"
   ]
  },
  {
   "cell_type": "code",
   "execution_count": 58,
   "id": "9c05ea84",
   "metadata": {},
   "outputs": [
    {
     "data": {
      "text/plain": [
       "Obito    464017\n",
       "Cura     464017\n",
       "Name: EVOLUCAO, dtype: int64"
      ]
     },
     "execution_count": 58,
     "metadata": {},
     "output_type": "execute_result"
    }
   ],
   "source": [
    "# Visualização do novo balanceamento\n",
    "balanced_srag['EVOLUCAO'].value_counts()"
   ]
  },
  {
   "cell_type": "code",
   "execution_count": 34,
   "id": "47088802",
   "metadata": {},
   "outputs": [
    {
     "name": "stdout",
     "output_type": "stream",
     "text": [
      "<class 'pandas.core.frame.DataFrame'>\n",
      "Int64Index: 928034 entries, 603977 to 2825164\n",
      "Data columns (total 25 columns):\n",
      " #   Column      Non-Null Count   Dtype  \n",
      "---  ------      --------------   -----  \n",
      " 0   CS_SEXO     928034 non-null  object \n",
      " 1   NU_IDADE_N  928034 non-null  int64  \n",
      " 2   FEBRE       928034 non-null  float64\n",
      " 3   DISPNEIA    928034 non-null  float64\n",
      " 4   DESC_RESP   928034 non-null  float64\n",
      " 5   SATURACAO   928034 non-null  float64\n",
      " 6   DIARREIA    928034 non-null  float64\n",
      " 7   VOMITO      928034 non-null  float64\n",
      " 8   CARDIOPATI  928034 non-null  float64\n",
      " 9   HEMATOLOGI  928034 non-null  float64\n",
      " 10  SIND_DOWN   928034 non-null  float64\n",
      " 11  HEPATICA    928034 non-null  float64\n",
      " 12  ASMA        928034 non-null  float64\n",
      " 13  DIABETES    928034 non-null  float64\n",
      " 14  NEUROLOGIC  928034 non-null  float64\n",
      " 15  PNEUMOPATI  928034 non-null  float64\n",
      " 16  IMUNODEPRE  928034 non-null  float64\n",
      " 17  RENAL       928034 non-null  float64\n",
      " 18  OBESIDADE   928034 non-null  float64\n",
      " 19  DOR_ABD     928034 non-null  float64\n",
      " 20  DOSE_1_COV  928034 non-null  object \n",
      " 21  DOSE_2_COV  928034 non-null  object \n",
      " 22  SUPORT_VEN  928034 non-null  float64\n",
      " 23  UTI         928034 non-null  float64\n",
      " 24  EVOLUCAO    928034 non-null  object \n",
      "dtypes: float64(20), int64(1), object(4)\n",
      "memory usage: 184.1+ MB\n"
     ]
    }
   ],
   "source": [
    "balanced_srag.info()"
   ]
  },
  {
   "cell_type": "markdown",
   "id": "e0cb21f2",
   "metadata": {},
   "source": [
    "### Preparação dos Dados Para Modelos de Machine Learning"
   ]
  },
  {
   "cell_type": "code",
   "execution_count": 59,
   "id": "084bfad4",
   "metadata": {},
   "outputs": [],
   "source": [
    "# Separação variáveis independentes e dependentes\n",
    "X = balanced_srag.iloc[:, :-1].values\n",
    "y = balanced_srag.iloc[:, -1].values\n",
    "\n",
    "cat_features = [0, 20, 21]\n",
    "\n",
    "column_transformer = ColumnTransformer(\n",
    "    transformers=[('encoder', OneHotEncoder(), cat_features)],\n",
    "    remainder='passthrough'\n",
    ")\n",
    "\n",
    "X = np.array(column_transformer.fit_transform(X))\n",
    "\n",
    "label_enconder = LabelEncoder()\n",
    "y = label_enconder.fit_transform(y)\n",
    "\n",
    "# Devisão dos dados em teste e treino estratificado\n",
    "X_train, X_test, y_train, y_test = train_test_split(X, y, test_size=0.2, random_state=42, stratify=y)\n",
    "\n",
    "# Normalização dos dados\n",
    "standard_scaler = StandardScaler().fit(X_train)\n",
    "X_train = standard_scaler.transform(X_train)\n",
    "X_test = standard_scaler.transform(X_test)"
   ]
  },
  {
   "cell_type": "markdown",
   "id": "8d6ad4b9",
   "metadata": {},
   "source": [
    "### CAT BOOST"
   ]
  },
  {
   "cell_type": "code",
   "execution_count": 60,
   "id": "bb547997",
   "metadata": {},
   "outputs": [
    {
     "name": "stdout",
     "output_type": "stream",
     "text": [
      "0:\tlearn: 0.4852487\ttotal: 169ms\tremaining: 677ms\n",
      "1:\tlearn: 0.4784071\ttotal: 284ms\tremaining: 426ms\n",
      "2:\tlearn: 0.4762285\ttotal: 429ms\tremaining: 286ms\n",
      "3:\tlearn: 0.4746808\ttotal: 863ms\tremaining: 216ms\n",
      "4:\tlearn: 0.4737347\ttotal: 1.06s\tremaining: 0us\n",
      "[[74281 18523]\n",
      " [22964 69839]]\n",
      "              precision    recall  f1-score   support\n",
      "\n",
      "           0       0.76      0.80      0.78     92804\n",
      "           1       0.79      0.75      0.77     92803\n",
      "\n",
      "    accuracy                           0.78    185607\n",
      "   macro avg       0.78      0.78      0.78    185607\n",
      "weighted avg       0.78      0.78      0.78    185607\n",
      "\n"
     ]
    }
   ],
   "source": [
    "# Initialize CatBoostClassifier\n",
    "model = CatBoostClassifier(iterations=5,\n",
    "                           learning_rate=1,\n",
    "                           depth=10)\n",
    "# Fit model\n",
    "model.fit(X_train, y_train)\n",
    "# Get predicted classes\n",
    "y_pred = model.predict(X_test)\n",
    "\n",
    "print(confusion_matrix(y_test, y_pred))\n",
    "print(classification_report(y_test, y_pred))"
   ]
  },
  {
   "cell_type": "markdown",
   "id": "3799528e",
   "metadata": {},
   "source": [
    "#### RANDOM FOREST"
   ]
  },
  {
   "cell_type": "code",
   "execution_count": 61,
   "id": "1a82f784",
   "metadata": {},
   "outputs": [
    {
     "name": "stdout",
     "output_type": "stream",
     "text": [
      "[[71243 21561]\n",
      " [24849 67954]]\n",
      "              precision    recall  f1-score   support\n",
      "\n",
      "           0       0.74      0.77      0.75     92804\n",
      "           1       0.76      0.73      0.75     92803\n",
      "\n",
      "    accuracy                           0.75    185607\n",
      "   macro avg       0.75      0.75      0.75    185607\n",
      "weighted avg       0.75      0.75      0.75    185607\n",
      "\n"
     ]
    }
   ],
   "source": [
    "random_forest_classifier = RandomForestClassifier(n_estimators = 50, criterion = 'entropy', random_state = 25)\n",
    "random_forest_classifier.fit(X_train, y_train)\n",
    "y_pred = random_forest_classifier.predict(X_test)\n",
    "\n",
    "print(confusion_matrix(y_test, y_pred))\n",
    "print(classification_report(y_test, y_pred))"
   ]
  },
  {
   "cell_type": "code",
   "execution_count": null,
   "id": "c5994111",
   "metadata": {},
   "outputs": [],
   "source": [
    "random_forest_classifier = RandomForestClassifier(n_estimators = 100, criterion = 'entropy', random_state = 80)\n",
    "random_forest_classifier.fit(X_train, y_train)\n",
    "y_pred = random_forest_classifier.predict(X_test)\n",
    "\n",
    "print(confusion_matrix(y_test, y_pred))\n",
    "print(classification_report(y_test, y_pred))"
   ]
  },
  {
   "cell_type": "markdown",
   "id": "fb90dbd5",
   "metadata": {},
   "source": [
    "#### DEEP LEARNING"
   ]
  },
  {
   "cell_type": "code",
   "execution_count": null,
   "id": "8c8c648a",
   "metadata": {},
   "outputs": [],
   "source": [
    "input_layer = X.shape[1]\n",
    "input_layer"
   ]
  },
  {
   "cell_type": "code",
   "execution_count": null,
   "id": "bb11fa24",
   "metadata": {},
   "outputs": [],
   "source": [
    "tf.random.set_seed(2)\n",
    "\n",
    "ann_classifier = keras.models.Sequential([\n",
    "    keras.layers.Dense(units=input_layer, activation='relu'), \n",
    "    keras.layers.Dense(units=16, activation='softmax'),\n",
    "    keras.layers.Dense(units=16, activation='softmax'),\n",
    "    keras.layers.Dense(units=1, activation='sigmoid'),\n",
    "])\n",
    "\n",
    "optimizer = keras.optimizers.Adam(learning_rate=0.01)\n",
    "\n",
    "ann_classifier.compile(\n",
    "    optimizer=optimizer, \n",
    "    loss='binary_crossentropy', \n",
    "    metrics=['accuracy']\n",
    ")\n",
    "\n",
    "ann_classifier.fit(X_train, y_train, epochs = 150, verbose=True)"
   ]
  },
  {
   "cell_type": "code",
   "execution_count": null,
   "id": "800f1d7b",
   "metadata": {},
   "outputs": [],
   "source": [
    "y_pred = ann_classifier.predict(X_test) > 0.5\n",
    "\n",
    "print(confusion_matrix(y_test, y_pred))\n",
    "print(classification_report(y_test, y_pred))"
   ]
  },
  {
   "cell_type": "code",
   "execution_count": null,
   "id": "6e69dc0a",
   "metadata": {},
   "outputs": [],
   "source": [
    "tf.random.set_seed(15)\n",
    "\n",
    "ann_classifier = keras.models.Sequential([\n",
    "    keras.layers.Dense(units=input_layer, activation='sigmoid'), \n",
    "    keras.layers.Dense(units=24, activation='sigmoid'),\n",
    "    keras.layers.Dense(units=24, activation='sigmoid'),\n",
    "    keras.layers.Dense(units=24, activation='sigmoid'),\n",
    "    keras.layers.Dense(units=16, activation='sigmoid'),\n",
    "    keras.layers.Dense(units=1, activation='sigmoid'),\n",
    "])\n",
    "\n",
    "optimizer = keras.optimizers.Adam(learning_rate=0.01)\n",
    "\n",
    "\n",
    "ann_classifier.compile(\n",
    "    optimizer=optimizer, \n",
    "    loss='binary_crossentropy', \n",
    "    metrics=['accuracy']\n",
    ")\n",
    "\n",
    "ann_classifier.fit(X_train, y_train, epochs = 150, verbose=True)"
   ]
  },
  {
   "cell_type": "code",
   "execution_count": null,
   "id": "62903f45",
   "metadata": {},
   "outputs": [],
   "source": [
    "y_pred = ann_classifier.predict(X_test) > 0.5\n",
    "\n",
    "print(confusion_matrix(y_test, y_pred))\n",
    "print(classification_report(y_test, y_pred))"
   ]
  }
 ],
 "metadata": {
  "kernelspec": {
   "display_name": "Python 3",
   "language": "python",
   "name": "python3"
  },
  "language_info": {
   "codemirror_mode": {
    "name": "ipython",
    "version": 3
   },
   "file_extension": ".py",
   "mimetype": "text/x-python",
   "name": "python",
   "nbconvert_exporter": "python",
   "pygments_lexer": "ipython3",
   "version": "3.8.8"
  }
 },
 "nbformat": 4,
 "nbformat_minor": 5
}
